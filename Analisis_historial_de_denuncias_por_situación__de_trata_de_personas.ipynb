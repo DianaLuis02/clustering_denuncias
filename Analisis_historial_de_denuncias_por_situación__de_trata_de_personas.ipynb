{
  "cells": [
    {
      "cell_type": "markdown",
      "source": [
        "Conociendo la problemática sobre denuncias de abusos mediante el reporte obtenido de la pagina del gobierno de Argentina.  \n",
        "\n",
        "Se analiza una manera de realizar campañas informativas y educativas para disminuir los índices de denuncias, para esto necesitaríamos  agrupar los casos y realizar campañas educativas e informativas.\n",
        "\n",
        "Según el tipo de etiqueta del caso Ahora bien, analizando la problemática se decide aplicar un algoritmo de clustering y de esta manera proceder a etiquetar cada caso, realizando previamente un análisis exploratorio a los datos estudiados.    "
      ],
      "metadata": {
        "id": "l8P1zUia97Jx"
      }
    },
    {
      "cell_type": "code",
      "execution_count": null,
      "metadata": {
        "id": "OPLxMmR67t8S"
      },
      "outputs": [],
      "source": [
        "import pandas as pd\n",
        "import numpy as np \n",
        "import seaborn as sns\n",
        "import matplotlib.pyplot as plt\n",
        "from sklearn.cluster import KMeans\n"
      ]
    },
    {
      "cell_type": "code",
      "execution_count": null,
      "metadata": {
        "id": "bjMbOepM-yPt"
      },
      "outputs": [],
      "source": [
        "df = pd.read_csv(\"oficinaRESCATE.csv\")"
      ]
    },
    {
      "cell_type": "code",
      "execution_count": null,
      "metadata": {
        "colab": {
          "base_uri": "https://localhost:8080/",
          "height": 696
        },
        "id": "MNTF6wuK_bT6",
        "outputId": "72d30222-2700-4b57-d69a-e983332bfcc5"
      },
      "outputs": [
        {
          "output_type": "execute_result",
          "data": {
            "text/plain": [
              "     fecha_ingreso hora_ingreso  nro_registro_interno situacion     origen  \\\n",
              "0       2020-01-01          NaN            1584554505  Urgencia  Ciudadano   \n",
              "1       2020-01-02          NaN            4584554505  Urgencia  Ciudadano   \n",
              "2       2020-01-02          NaN            5584554505  Urgencia  Ciudadano   \n",
              "3       2020-01-02          NaN            6584554505  Urgencia  Ciudadano   \n",
              "4       2020-01-02          NaN            7584554505  Urgencia  Ciudadano   \n",
              "...            ...          ...                   ...       ...        ...   \n",
              "4276    2022-12-30        17:30            2575757525  Urgencia  Ciudadano   \n",
              "4277    2022-12-30        20:33            6584848435  Urgencia  Ciudadano   \n",
              "4278    2022-12-31        07:11            8405848435  Urgencia  Ciudadano   \n",
              "4279    2022-12-31        11:06            9405848435  Urgencia  Ciudadano   \n",
              "4280    2022-12-31        12:10            1505848435  Urgencia  Ciudadano   \n",
              "\n",
              "     es_anonima                   tema  \\\n",
              "0            No                  Trata   \n",
              "1            No  Relaciones de familia   \n",
              "2            Si                  Trata   \n",
              "3            Si    Violencia de género   \n",
              "4            Si                  Trata   \n",
              "...         ...                    ...   \n",
              "4276         No                  Trata   \n",
              "4277         No                  Salud   \n",
              "4278         Sí                  Trata   \n",
              "4279         No                  Trata   \n",
              "4280         Sí                  Trata   \n",
              "\n",
              "                                             subtema  \\\n",
              "0                               Persona desaparecida   \n",
              "1     Deberes de responsabilidad parental o familiar   \n",
              "2                                 Explotación sexual   \n",
              "3                                          Económica   \n",
              "4                                 Explotación sexual   \n",
              "...                                              ...   \n",
              "4276                                    Salud mental   \n",
              "4277                                    Salud mental   \n",
              "4278                              Explotación sexual   \n",
              "4279                              Explotación sexual   \n",
              "4280                              Explotación sexual   \n",
              "\n",
              "                            provincia                        localidad  \\\n",
              "0     Ciudad Autónoma de Buenos Aires  Ciudad Autónoma de Buenos Aires   \n",
              "1                               Jujuy                              NaN   \n",
              "2                        Buenos Aires                     Buenos Aires   \n",
              "3                               Salta                            Salta   \n",
              "4                                 NaN                              NaN   \n",
              "...                               ...                              ...   \n",
              "4276                              NaN                              NaN   \n",
              "4277                        Río Negro                        Rio Negro   \n",
              "4278                         Misiones                           Garupá   \n",
              "4279                     Buenos Aires                      José C. Paz   \n",
              "4280                              NaN                              NaN   \n",
              "\n",
              "     dependencia_alta via_ingreso consultante_nacionalidad  \\\n",
              "0     PNR - Línea 145   Línea 145                Argentina   \n",
              "1     PNR - Línea 145   Línea 145                  Bolivia   \n",
              "2     PNR - Línea 145   Línea 145                      NaN   \n",
              "3     PNR - Línea 145   Línea 145                Argentina   \n",
              "4     PNR - Línea 145   Línea 145                      NaN   \n",
              "...               ...         ...                      ...   \n",
              "4276  PNR - Línea 145   Línea 145                      NaN   \n",
              "4277  PNR - Línea 145   Línea 145                      NaN   \n",
              "4278  PNR - Línea 145   Línea 145                      NaN   \n",
              "4279  PNR - Línea 145   Línea 145                Argentina   \n",
              "4280  PNR - Línea 145   Línea 145                      NaN   \n",
              "\n",
              "                consultante_provincia            consultante_localidad  \\\n",
              "0     Ciudad Autónoma de Buenos Aires  Ciudad Autónoma de Buenos Aires   \n",
              "1                                 NaN                              NaN   \n",
              "2                                 NaN                              NaN   \n",
              "3                                 NaN                              NaN   \n",
              "4                                 NaN                              NaN   \n",
              "...                               ...                              ...   \n",
              "4276                              NaN                              NaN   \n",
              "4277                        Río Negro                              NaN   \n",
              "4278                         Misiones                              NaN   \n",
              "4279                     Buenos Aires                     Monte Grande   \n",
              "4280                              NaN                              NaN   \n",
              "\n",
              "             consultante_tipo consultante_como_conocio_la_linea  \\\n",
              "0     Consultante - ciudadano                               NaN   \n",
              "1     Consultante - ciudadano                               NaN   \n",
              "2     Consultante - ciudadano                               NaN   \n",
              "3                 Consultante              No sabe, no recuerda   \n",
              "4                 Consultante              No sabe, no recuerda   \n",
              "...                       ...                               ...   \n",
              "4276              Consultante                               NaN   \n",
              "4277              Consultante                               NaN   \n",
              "4278              Consultante              No sabe, no recuerda   \n",
              "4279              Consultante                               NaN   \n",
              "4280              Consultante                               NaN   \n",
              "\n",
              "     consultante_genero  consultante_edad_aparente provincia_indec_id  \n",
              "0                 Mujer                       25.0                  2  \n",
              "1                 Mujer                        NaN                 38  \n",
              "2                 Mujer                        NaN                  6  \n",
              "3                 Mujer                        NaN                 66  \n",
              "4                 Mujer                        NaN                NaN  \n",
              "...                 ...                        ...                ...  \n",
              "4276          Mujer cis                        0.0                NaN  \n",
              "4277              Mujer                       65.0                 62  \n",
              "4278        Varón trans                       30.0                 54  \n",
              "4279          Varón cis                       51.0                 06  \n",
              "4280             Hombre                        0.0                NaN  \n",
              "\n",
              "[4281 rows x 20 columns]"
            ],
            "text/html": [
              "\n",
              "  <div id=\"df-e34b0b2e-3e0f-44cb-b5b6-116cdfe679e6\">\n",
              "    <div class=\"colab-df-container\">\n",
              "      <div>\n",
              "<style scoped>\n",
              "    .dataframe tbody tr th:only-of-type {\n",
              "        vertical-align: middle;\n",
              "    }\n",
              "\n",
              "    .dataframe tbody tr th {\n",
              "        vertical-align: top;\n",
              "    }\n",
              "\n",
              "    .dataframe thead th {\n",
              "        text-align: right;\n",
              "    }\n",
              "</style>\n",
              "<table border=\"1\" class=\"dataframe\">\n",
              "  <thead>\n",
              "    <tr style=\"text-align: right;\">\n",
              "      <th></th>\n",
              "      <th>fecha_ingreso</th>\n",
              "      <th>hora_ingreso</th>\n",
              "      <th>nro_registro_interno</th>\n",
              "      <th>situacion</th>\n",
              "      <th>origen</th>\n",
              "      <th>es_anonima</th>\n",
              "      <th>tema</th>\n",
              "      <th>subtema</th>\n",
              "      <th>provincia</th>\n",
              "      <th>localidad</th>\n",
              "      <th>dependencia_alta</th>\n",
              "      <th>via_ingreso</th>\n",
              "      <th>consultante_nacionalidad</th>\n",
              "      <th>consultante_provincia</th>\n",
              "      <th>consultante_localidad</th>\n",
              "      <th>consultante_tipo</th>\n",
              "      <th>consultante_como_conocio_la_linea</th>\n",
              "      <th>consultante_genero</th>\n",
              "      <th>consultante_edad_aparente</th>\n",
              "      <th>provincia_indec_id</th>\n",
              "    </tr>\n",
              "  </thead>\n",
              "  <tbody>\n",
              "    <tr>\n",
              "      <th>0</th>\n",
              "      <td>2020-01-01</td>\n",
              "      <td>NaN</td>\n",
              "      <td>1584554505</td>\n",
              "      <td>Urgencia</td>\n",
              "      <td>Ciudadano</td>\n",
              "      <td>No</td>\n",
              "      <td>Trata</td>\n",
              "      <td>Persona desaparecida</td>\n",
              "      <td>Ciudad Autónoma de Buenos Aires</td>\n",
              "      <td>Ciudad Autónoma de Buenos Aires</td>\n",
              "      <td>PNR - Línea 145</td>\n",
              "      <td>Línea 145</td>\n",
              "      <td>Argentina</td>\n",
              "      <td>Ciudad Autónoma de Buenos Aires</td>\n",
              "      <td>Ciudad Autónoma de Buenos Aires</td>\n",
              "      <td>Consultante - ciudadano</td>\n",
              "      <td>NaN</td>\n",
              "      <td>Mujer</td>\n",
              "      <td>25.0</td>\n",
              "      <td>2</td>\n",
              "    </tr>\n",
              "    <tr>\n",
              "      <th>1</th>\n",
              "      <td>2020-01-02</td>\n",
              "      <td>NaN</td>\n",
              "      <td>4584554505</td>\n",
              "      <td>Urgencia</td>\n",
              "      <td>Ciudadano</td>\n",
              "      <td>No</td>\n",
              "      <td>Relaciones de familia</td>\n",
              "      <td>Deberes de responsabilidad parental o familiar</td>\n",
              "      <td>Jujuy</td>\n",
              "      <td>NaN</td>\n",
              "      <td>PNR - Línea 145</td>\n",
              "      <td>Línea 145</td>\n",
              "      <td>Bolivia</td>\n",
              "      <td>NaN</td>\n",
              "      <td>NaN</td>\n",
              "      <td>Consultante - ciudadano</td>\n",
              "      <td>NaN</td>\n",
              "      <td>Mujer</td>\n",
              "      <td>NaN</td>\n",
              "      <td>38</td>\n",
              "    </tr>\n",
              "    <tr>\n",
              "      <th>2</th>\n",
              "      <td>2020-01-02</td>\n",
              "      <td>NaN</td>\n",
              "      <td>5584554505</td>\n",
              "      <td>Urgencia</td>\n",
              "      <td>Ciudadano</td>\n",
              "      <td>Si</td>\n",
              "      <td>Trata</td>\n",
              "      <td>Explotación sexual</td>\n",
              "      <td>Buenos Aires</td>\n",
              "      <td>Buenos Aires</td>\n",
              "      <td>PNR - Línea 145</td>\n",
              "      <td>Línea 145</td>\n",
              "      <td>NaN</td>\n",
              "      <td>NaN</td>\n",
              "      <td>NaN</td>\n",
              "      <td>Consultante - ciudadano</td>\n",
              "      <td>NaN</td>\n",
              "      <td>Mujer</td>\n",
              "      <td>NaN</td>\n",
              "      <td>6</td>\n",
              "    </tr>\n",
              "    <tr>\n",
              "      <th>3</th>\n",
              "      <td>2020-01-02</td>\n",
              "      <td>NaN</td>\n",
              "      <td>6584554505</td>\n",
              "      <td>Urgencia</td>\n",
              "      <td>Ciudadano</td>\n",
              "      <td>Si</td>\n",
              "      <td>Violencia de género</td>\n",
              "      <td>Económica</td>\n",
              "      <td>Salta</td>\n",
              "      <td>Salta</td>\n",
              "      <td>PNR - Línea 145</td>\n",
              "      <td>Línea 145</td>\n",
              "      <td>Argentina</td>\n",
              "      <td>NaN</td>\n",
              "      <td>NaN</td>\n",
              "      <td>Consultante</td>\n",
              "      <td>No sabe, no recuerda</td>\n",
              "      <td>Mujer</td>\n",
              "      <td>NaN</td>\n",
              "      <td>66</td>\n",
              "    </tr>\n",
              "    <tr>\n",
              "      <th>4</th>\n",
              "      <td>2020-01-02</td>\n",
              "      <td>NaN</td>\n",
              "      <td>7584554505</td>\n",
              "      <td>Urgencia</td>\n",
              "      <td>Ciudadano</td>\n",
              "      <td>Si</td>\n",
              "      <td>Trata</td>\n",
              "      <td>Explotación sexual</td>\n",
              "      <td>NaN</td>\n",
              "      <td>NaN</td>\n",
              "      <td>PNR - Línea 145</td>\n",
              "      <td>Línea 145</td>\n",
              "      <td>NaN</td>\n",
              "      <td>NaN</td>\n",
              "      <td>NaN</td>\n",
              "      <td>Consultante</td>\n",
              "      <td>No sabe, no recuerda</td>\n",
              "      <td>Mujer</td>\n",
              "      <td>NaN</td>\n",
              "      <td>NaN</td>\n",
              "    </tr>\n",
              "    <tr>\n",
              "      <th>...</th>\n",
              "      <td>...</td>\n",
              "      <td>...</td>\n",
              "      <td>...</td>\n",
              "      <td>...</td>\n",
              "      <td>...</td>\n",
              "      <td>...</td>\n",
              "      <td>...</td>\n",
              "      <td>...</td>\n",
              "      <td>...</td>\n",
              "      <td>...</td>\n",
              "      <td>...</td>\n",
              "      <td>...</td>\n",
              "      <td>...</td>\n",
              "      <td>...</td>\n",
              "      <td>...</td>\n",
              "      <td>...</td>\n",
              "      <td>...</td>\n",
              "      <td>...</td>\n",
              "      <td>...</td>\n",
              "      <td>...</td>\n",
              "    </tr>\n",
              "    <tr>\n",
              "      <th>4276</th>\n",
              "      <td>2022-12-30</td>\n",
              "      <td>17:30</td>\n",
              "      <td>2575757525</td>\n",
              "      <td>Urgencia</td>\n",
              "      <td>Ciudadano</td>\n",
              "      <td>No</td>\n",
              "      <td>Trata</td>\n",
              "      <td>Salud mental</td>\n",
              "      <td>NaN</td>\n",
              "      <td>NaN</td>\n",
              "      <td>PNR - Línea 145</td>\n",
              "      <td>Línea 145</td>\n",
              "      <td>NaN</td>\n",
              "      <td>NaN</td>\n",
              "      <td>NaN</td>\n",
              "      <td>Consultante</td>\n",
              "      <td>NaN</td>\n",
              "      <td>Mujer cis</td>\n",
              "      <td>0.0</td>\n",
              "      <td>NaN</td>\n",
              "    </tr>\n",
              "    <tr>\n",
              "      <th>4277</th>\n",
              "      <td>2022-12-30</td>\n",
              "      <td>20:33</td>\n",
              "      <td>6584848435</td>\n",
              "      <td>Urgencia</td>\n",
              "      <td>Ciudadano</td>\n",
              "      <td>No</td>\n",
              "      <td>Salud</td>\n",
              "      <td>Salud mental</td>\n",
              "      <td>Río Negro</td>\n",
              "      <td>Rio Negro</td>\n",
              "      <td>PNR - Línea 145</td>\n",
              "      <td>Línea 145</td>\n",
              "      <td>NaN</td>\n",
              "      <td>Río Negro</td>\n",
              "      <td>NaN</td>\n",
              "      <td>Consultante</td>\n",
              "      <td>NaN</td>\n",
              "      <td>Mujer</td>\n",
              "      <td>65.0</td>\n",
              "      <td>62</td>\n",
              "    </tr>\n",
              "    <tr>\n",
              "      <th>4278</th>\n",
              "      <td>2022-12-31</td>\n",
              "      <td>07:11</td>\n",
              "      <td>8405848435</td>\n",
              "      <td>Urgencia</td>\n",
              "      <td>Ciudadano</td>\n",
              "      <td>Sí</td>\n",
              "      <td>Trata</td>\n",
              "      <td>Explotación sexual</td>\n",
              "      <td>Misiones</td>\n",
              "      <td>Garupá</td>\n",
              "      <td>PNR - Línea 145</td>\n",
              "      <td>Línea 145</td>\n",
              "      <td>NaN</td>\n",
              "      <td>Misiones</td>\n",
              "      <td>NaN</td>\n",
              "      <td>Consultante</td>\n",
              "      <td>No sabe, no recuerda</td>\n",
              "      <td>Varón trans</td>\n",
              "      <td>30.0</td>\n",
              "      <td>54</td>\n",
              "    </tr>\n",
              "    <tr>\n",
              "      <th>4279</th>\n",
              "      <td>2022-12-31</td>\n",
              "      <td>11:06</td>\n",
              "      <td>9405848435</td>\n",
              "      <td>Urgencia</td>\n",
              "      <td>Ciudadano</td>\n",
              "      <td>No</td>\n",
              "      <td>Trata</td>\n",
              "      <td>Explotación sexual</td>\n",
              "      <td>Buenos Aires</td>\n",
              "      <td>José C. Paz</td>\n",
              "      <td>PNR - Línea 145</td>\n",
              "      <td>Línea 145</td>\n",
              "      <td>Argentina</td>\n",
              "      <td>Buenos Aires</td>\n",
              "      <td>Monte Grande</td>\n",
              "      <td>Consultante</td>\n",
              "      <td>NaN</td>\n",
              "      <td>Varón cis</td>\n",
              "      <td>51.0</td>\n",
              "      <td>06</td>\n",
              "    </tr>\n",
              "    <tr>\n",
              "      <th>4280</th>\n",
              "      <td>2022-12-31</td>\n",
              "      <td>12:10</td>\n",
              "      <td>1505848435</td>\n",
              "      <td>Urgencia</td>\n",
              "      <td>Ciudadano</td>\n",
              "      <td>Sí</td>\n",
              "      <td>Trata</td>\n",
              "      <td>Explotación sexual</td>\n",
              "      <td>NaN</td>\n",
              "      <td>NaN</td>\n",
              "      <td>PNR - Línea 145</td>\n",
              "      <td>Línea 145</td>\n",
              "      <td>NaN</td>\n",
              "      <td>NaN</td>\n",
              "      <td>NaN</td>\n",
              "      <td>Consultante</td>\n",
              "      <td>NaN</td>\n",
              "      <td>Hombre</td>\n",
              "      <td>0.0</td>\n",
              "      <td>NaN</td>\n",
              "    </tr>\n",
              "  </tbody>\n",
              "</table>\n",
              "<p>4281 rows × 20 columns</p>\n",
              "</div>\n",
              "      <button class=\"colab-df-convert\" onclick=\"convertToInteractive('df-e34b0b2e-3e0f-44cb-b5b6-116cdfe679e6')\"\n",
              "              title=\"Convert this dataframe to an interactive table.\"\n",
              "              style=\"display:none;\">\n",
              "        \n",
              "  <svg xmlns=\"http://www.w3.org/2000/svg\" height=\"24px\"viewBox=\"0 0 24 24\"\n",
              "       width=\"24px\">\n",
              "    <path d=\"M0 0h24v24H0V0z\" fill=\"none\"/>\n",
              "    <path d=\"M18.56 5.44l.94 2.06.94-2.06 2.06-.94-2.06-.94-.94-2.06-.94 2.06-2.06.94zm-11 1L8.5 8.5l.94-2.06 2.06-.94-2.06-.94L8.5 2.5l-.94 2.06-2.06.94zm10 10l.94 2.06.94-2.06 2.06-.94-2.06-.94-.94-2.06-.94 2.06-2.06.94z\"/><path d=\"M17.41 7.96l-1.37-1.37c-.4-.4-.92-.59-1.43-.59-.52 0-1.04.2-1.43.59L10.3 9.45l-7.72 7.72c-.78.78-.78 2.05 0 2.83L4 21.41c.39.39.9.59 1.41.59.51 0 1.02-.2 1.41-.59l7.78-7.78 2.81-2.81c.8-.78.8-2.07 0-2.86zM5.41 20L4 18.59l7.72-7.72 1.47 1.35L5.41 20z\"/>\n",
              "  </svg>\n",
              "      </button>\n",
              "      \n",
              "  <style>\n",
              "    .colab-df-container {\n",
              "      display:flex;\n",
              "      flex-wrap:wrap;\n",
              "      gap: 12px;\n",
              "    }\n",
              "\n",
              "    .colab-df-convert {\n",
              "      background-color: #E8F0FE;\n",
              "      border: none;\n",
              "      border-radius: 50%;\n",
              "      cursor: pointer;\n",
              "      display: none;\n",
              "      fill: #1967D2;\n",
              "      height: 32px;\n",
              "      padding: 0 0 0 0;\n",
              "      width: 32px;\n",
              "    }\n",
              "\n",
              "    .colab-df-convert:hover {\n",
              "      background-color: #E2EBFA;\n",
              "      box-shadow: 0px 1px 2px rgba(60, 64, 67, 0.3), 0px 1px 3px 1px rgba(60, 64, 67, 0.15);\n",
              "      fill: #174EA6;\n",
              "    }\n",
              "\n",
              "    [theme=dark] .colab-df-convert {\n",
              "      background-color: #3B4455;\n",
              "      fill: #D2E3FC;\n",
              "    }\n",
              "\n",
              "    [theme=dark] .colab-df-convert:hover {\n",
              "      background-color: #434B5C;\n",
              "      box-shadow: 0px 1px 3px 1px rgba(0, 0, 0, 0.15);\n",
              "      filter: drop-shadow(0px 1px 2px rgba(0, 0, 0, 0.3));\n",
              "      fill: #FFFFFF;\n",
              "    }\n",
              "  </style>\n",
              "\n",
              "      <script>\n",
              "        const buttonEl =\n",
              "          document.querySelector('#df-e34b0b2e-3e0f-44cb-b5b6-116cdfe679e6 button.colab-df-convert');\n",
              "        buttonEl.style.display =\n",
              "          google.colab.kernel.accessAllowed ? 'block' : 'none';\n",
              "\n",
              "        async function convertToInteractive(key) {\n",
              "          const element = document.querySelector('#df-e34b0b2e-3e0f-44cb-b5b6-116cdfe679e6');\n",
              "          const dataTable =\n",
              "            await google.colab.kernel.invokeFunction('convertToInteractive',\n",
              "                                                     [key], {});\n",
              "          if (!dataTable) return;\n",
              "\n",
              "          const docLinkHtml = 'Like what you see? Visit the ' +\n",
              "            '<a target=\"_blank\" href=https://colab.research.google.com/notebooks/data_table.ipynb>data table notebook</a>'\n",
              "            + ' to learn more about interactive tables.';\n",
              "          element.innerHTML = '';\n",
              "          dataTable['output_type'] = 'display_data';\n",
              "          await google.colab.output.renderOutput(dataTable, element);\n",
              "          const docLink = document.createElement('div');\n",
              "          docLink.innerHTML = docLinkHtml;\n",
              "          element.appendChild(docLink);\n",
              "        }\n",
              "      </script>\n",
              "    </div>\n",
              "  </div>\n",
              "  "
            ]
          },
          "metadata": {},
          "execution_count": 140
        }
      ],
      "source": [
        "df"
      ]
    },
    {
      "cell_type": "code",
      "execution_count": null,
      "metadata": {
        "colab": {
          "base_uri": "https://localhost:8080/"
        },
        "id": "OpaLWvnEADQl",
        "outputId": "770e82b7-a604-4cfb-939b-4f7a44f14cd2"
      },
      "outputs": [
        {
          "output_type": "stream",
          "name": "stdout",
          "text": [
            "<class 'pandas.core.frame.DataFrame'>\n",
            "RangeIndex: 4281 entries, 0 to 4280\n",
            "Data columns (total 20 columns):\n",
            " #   Column                             Non-Null Count  Dtype  \n",
            "---  ------                             --------------  -----  \n",
            " 0   fecha_ingreso                      4281 non-null   object \n",
            " 1   hora_ingreso                       1361 non-null   object \n",
            " 2   nro_registro_interno               4281 non-null   int64  \n",
            " 3   situacion                          4273 non-null   object \n",
            " 4   origen                             4281 non-null   object \n",
            " 5   es_anonima                         4281 non-null   object \n",
            " 6   tema                               4276 non-null   object \n",
            " 7   subtema                            4276 non-null   object \n",
            " 8   provincia                          2685 non-null   object \n",
            " 9   localidad                          2503 non-null   object \n",
            " 10  dependencia_alta                   4281 non-null   object \n",
            " 11  via_ingreso                        3642 non-null   object \n",
            " 12  consultante_nacionalidad           791 non-null    object \n",
            " 13  consultante_provincia              1511 non-null   object \n",
            " 14  consultante_localidad              615 non-null    object \n",
            " 15  consultante_tipo                   3855 non-null   object \n",
            " 16  consultante_como_conocio_la_linea  765 non-null    object \n",
            " 17  consultante_genero                 3201 non-null   object \n",
            " 18  consultante_edad_aparente          2993 non-null   float64\n",
            " 19  provincia_indec_id                 2701 non-null   object \n",
            "dtypes: float64(1), int64(1), object(18)\n",
            "memory usage: 669.0+ KB\n"
          ]
        }
      ],
      "source": [
        "df.info()"
      ]
    },
    {
      "cell_type": "code",
      "execution_count": null,
      "metadata": {
        "colab": {
          "base_uri": "https://localhost:8080/"
        },
        "id": "Vp8kFqykK7FD",
        "outputId": "2ccfe5f8-c027-44e2-b246-b152f7875814"
      },
      "outputs": [
        {
          "output_type": "execute_result",
          "data": {
            "text/plain": [
              "fecha_ingreso                           0\n",
              "hora_ingreso                         2920\n",
              "nro_registro_interno                    0\n",
              "situacion                               8\n",
              "origen                                  0\n",
              "es_anonima                              0\n",
              "tema                                    5\n",
              "subtema                                 5\n",
              "provincia                            1596\n",
              "localidad                            1778\n",
              "dependencia_alta                        0\n",
              "via_ingreso                           639\n",
              "consultante_nacionalidad             3490\n",
              "consultante_provincia                2770\n",
              "consultante_localidad                3666\n",
              "consultante_tipo                      426\n",
              "consultante_como_conocio_la_linea    3516\n",
              "consultante_genero                   1080\n",
              "consultante_edad_aparente            1288\n",
              "provincia_indec_id                   1580\n",
              "dtype: int64"
            ]
          },
          "metadata": {},
          "execution_count": 142
        }
      ],
      "source": [
        "df.isnull().sum()"
      ]
    },
    {
      "cell_type": "code",
      "execution_count": null,
      "metadata": {
        "id": "jd6RPptICDVw"
      },
      "outputs": [],
      "source": [
        "df[\"situacion\"]= df[\"situacion\"].fillna(\"Urgencia\")#Cambiamos los valores nulos por \"Urgencia\" en la columna situacion.\n"
      ]
    },
    {
      "cell_type": "code",
      "execution_count": null,
      "metadata": {
        "colab": {
          "base_uri": "https://localhost:8080/",
          "height": 667
        },
        "id": "MeRy2eB_M6DV",
        "outputId": "c92f41bb-b8cc-4338-f03f-138f0cb72db8"
      },
      "outputs": [
        {
          "output_type": "execute_result",
          "data": {
            "text/plain": [
              "Text(0.5, 1.0, 'Tema')"
            ]
          },
          "metadata": {},
          "execution_count": 144
        },
        {
          "output_type": "display_data",
          "data": {
            "text/plain": [
              "<Figure size 1080x360 with 1 Axes>"
            ],
            "image/png": "[encoded data removed]"
          },
          "metadata": {
            "needs_background": "light"
          }
        }
      ],
      "source": [
        "grafica1 = df[\"tema\"].value_counts().plot(kind=\"bar\", figsize= (15,5))\n",
        "plt.title(\"Tema\")"
      ]
    },
    {
      "cell_type": "code",
      "execution_count": null,
      "metadata": {
        "id": "NKVbPdtAOIOf"
      },
      "outputs": [],
      "source": [
        "df[\"tema\"]= df[\"tema\"].fillna(\"Trata\")#Cambiamos los valores nulos por \"Trata\"\n",
        "df[\"subtema\"]= df[\"subtema\"].fillna(\"Salud mental\")#Cambiamos los valores nulos por \"Salud mental\"\n"
      ]
    },
    {
      "cell_type": "code",
      "execution_count": null,
      "metadata": {
        "id": "V0yd1Ek4Gy3c"
      },
      "outputs": [],
      "source": [
        "df[\"origen\"]= df[\"origen\"].str.replace(u\"nan\",\"Ciudadano\") #Cambiamos los valores nulos por \"Ciudadano\"\n"
      ]
    },
    {
      "cell_type": "code",
      "execution_count": null,
      "metadata": {
        "colab": {
          "base_uri": "https://localhost:8080/"
        },
        "id": "zk2AzZk0PLBH",
        "outputId": "f6e4a280-1151-4527-b967-ed2602a4a75d"
      },
      "outputs": [
        {
          "output_type": "execute_result",
          "data": {
            "text/plain": [
              "fecha_ingreso                           0\n",
              "hora_ingreso                         2920\n",
              "nro_registro_interno                    0\n",
              "situacion                               0\n",
              "origen                                  0\n",
              "es_anonima                              0\n",
              "tema                                    0\n",
              "subtema                                 0\n",
              "provincia                            1596\n",
              "localidad                            1778\n",
              "dependencia_alta                        0\n",
              "via_ingreso                           639\n",
              "consultante_nacionalidad             3490\n",
              "consultante_provincia                2770\n",
              "consultante_localidad                3666\n",
              "consultante_tipo                      426\n",
              "consultante_como_conocio_la_linea    3516\n",
              "consultante_genero                   1080\n",
              "consultante_edad_aparente            1288\n",
              "provincia_indec_id                   1580\n",
              "dtype: int64"
            ]
          },
          "metadata": {},
          "execution_count": 147
        }
      ],
      "source": [
        "df.isnull().sum()"
      ]
    },
    {
      "cell_type": "code",
      "execution_count": null,
      "metadata": {
        "colab": {
          "base_uri": "https://localhost:8080/",
          "height": 516
        },
        "id": "VM0dHsk2PnoM",
        "outputId": "cf1add9e-f48a-4ef8-f631-9a25b5b0178e"
      },
      "outputs": [
        {
          "output_type": "execute_result",
          "data": {
            "text/plain": [
              "Text(0.5, 1.0, 'Provincia')"
            ]
          },
          "metadata": {},
          "execution_count": 148
        },
        {
          "output_type": "display_data",
          "data": {
            "text/plain": [
              "<Figure size 1080x360 with 1 Axes>"
            ],
            "image/png": "[encoded data removed]"
          },
          "metadata": {
            "needs_background": "light"
          }
        }
      ],
      "source": [
        "grafica1 = df[\"provincia\"].value_counts().plot(kind=\"bar\", figsize= (15,5))\n",
        "plt.title(\"Provincia\")"
      ]
    },
    {
      "cell_type": "code",
      "execution_count": null,
      "metadata": {
        "id": "YaNhAc-RQAsA"
      },
      "outputs": [],
      "source": [
        "df[\"provincia\"]= df[\"provincia\"].fillna(\"Buenos Aires\")#Cambiamos los valores nulos por \"Buenos Aires\"\n",
        "df[\"localidad\"]= df[\"localidad\"].fillna(\"Buenos Aires\")#Cambiamos los valores nulos por \"Buenos Aires\"\n"
      ]
    },
    {
      "cell_type": "code",
      "execution_count": null,
      "metadata": {
        "colab": {
          "base_uri": "https://localhost:8080/",
          "height": 612
        },
        "id": "S1gndXaYQukH",
        "outputId": "3c371ac3-b83b-4cdf-8570-1688bc10aa1c"
      },
      "outputs": [
        {
          "output_type": "execute_result",
          "data": {
            "text/plain": [
              "Text(0.5, 1.0, 'via_ingreso')"
            ]
          },
          "metadata": {},
          "execution_count": 150
        },
        {
          "output_type": "display_data",
          "data": {
            "text/plain": [
              "<Figure size 1080x360 with 1 Axes>"
            ],
            "image/png": "[encoded data removed]"
          },
          "metadata": {
            "needs_background": "light"
          }
        }
      ],
      "source": [
        "grafica1 = df[\"via_ingreso\"].value_counts().plot(kind=\"bar\", figsize= (15,5))\n",
        "plt.title(\"via_ingreso\")"
      ]
    },
    {
      "cell_type": "code",
      "execution_count": null,
      "metadata": {
        "id": "lq-niQ1tRTIT"
      },
      "outputs": [],
      "source": [
        "df[\"via_ingreso\"]= df[\"via_ingreso\"].fillna(\"Línea 145\")\n"
      ]
    },
    {
      "cell_type": "code",
      "execution_count": null,
      "metadata": {
        "colab": {
          "base_uri": "https://localhost:8080/"
        },
        "id": "4GxTv_giRood",
        "outputId": "ff2e083b-5788-460c-9385-03d9ae0dbd76"
      },
      "outputs": [
        {
          "output_type": "execute_result",
          "data": {
            "text/plain": [
              "fecha_ingreso                           0\n",
              "hora_ingreso                         2920\n",
              "nro_registro_interno                    0\n",
              "situacion                               0\n",
              "origen                                  0\n",
              "es_anonima                              0\n",
              "tema                                    0\n",
              "subtema                                 0\n",
              "provincia                               0\n",
              "localidad                               0\n",
              "dependencia_alta                        0\n",
              "via_ingreso                             0\n",
              "consultante_nacionalidad             3490\n",
              "consultante_provincia                2770\n",
              "consultante_localidad                3666\n",
              "consultante_tipo                      426\n",
              "consultante_como_conocio_la_linea    3516\n",
              "consultante_genero                   1080\n",
              "consultante_edad_aparente            1288\n",
              "provincia_indec_id                   1580\n",
              "dtype: int64"
            ]
          },
          "metadata": {},
          "execution_count": 111
        }
      ],
      "source": [
        "df.isnull().sum()"
      ]
    },
    {
      "cell_type": "code",
      "execution_count": null,
      "metadata": {
        "colab": {
          "base_uri": "https://localhost:8080/",
          "height": 491
        },
        "id": "LKqU9pzaRw38",
        "outputId": "08f78add-7ca3-40e4-c228-ed42d7c89322"
      },
      "outputs": [
        {
          "output_type": "execute_result",
          "data": {
            "text/plain": [
              "Text(0.5, 1.0, 'consultante_tipo')"
            ]
          },
          "metadata": {},
          "execution_count": 152
        },
        {
          "output_type": "display_data",
          "data": {
            "text/plain": [
              "<Figure size 1080x360 with 1 Axes>"
            ],
            "image/png": "[encoded data removed]"
          },
          "metadata": {
            "needs_background": "light"
          }
        }
      ],
      "source": [
        "grafica1 = df[\"consultante_tipo\"].value_counts().plot(kind=\"bar\", figsize= (15,5))\n",
        "plt.title(\"consultante_tipo\")"
      ]
    },
    {
      "cell_type": "code",
      "execution_count": null,
      "metadata": {
        "id": "l7HBvoAXSF-l"
      },
      "outputs": [],
      "source": [
        "df[\"consultante_tipo\"]= df[\"consultante_tipo\"].fillna(\"Consultante\")\n"
      ]
    },
    {
      "cell_type": "code",
      "execution_count": null,
      "metadata": {
        "colab": {
          "base_uri": "https://localhost:8080/",
          "height": 451
        },
        "id": "9fN5hbd9Upd7",
        "outputId": "b8a162df-8286-4f86-f96d-7d8db28d1af3"
      },
      "outputs": [
        {
          "output_type": "execute_result",
          "data": {
            "text/plain": [
              "Text(0.5, 1.0, 'consultante_genero')"
            ]
          },
          "metadata": {},
          "execution_count": 154
        },
        {
          "output_type": "display_data",
          "data": {
            "text/plain": [
              "<Figure size 1080x360 with 1 Axes>"
            ],
            "image/png": "[encoded data removed]"
          },
          "metadata": {
            "needs_background": "light"
          }
        }
      ],
      "source": [
        "grafica1 = df[\"consultante_genero\"].value_counts().plot(kind=\"bar\", figsize= (15,5))\n",
        "plt.title(\"consultante_genero\")"
      ]
    },
    {
      "cell_type": "code",
      "execution_count": null,
      "metadata": {
        "id": "1JW5IvlSWild"
      },
      "outputs": [],
      "source": [
        "df[\"consultante_genero\"]= df[\"consultante_genero\"].fillna(method = \"bfill\")\n"
      ]
    },
    {
      "cell_type": "code",
      "execution_count": null,
      "metadata": {
        "colab": {
          "base_uri": "https://localhost:8080/",
          "height": 451
        },
        "id": "F4xQoF4DYscA",
        "outputId": "12174da8-651e-4439-b8bd-f7f1481579bf"
      },
      "outputs": [
        {
          "output_type": "execute_result",
          "data": {
            "text/plain": [
              "Text(0.5, 1.0, 'consultante_genero')"
            ]
          },
          "metadata": {},
          "execution_count": 116
        },
        {
          "output_type": "display_data",
          "data": {
            "text/plain": [
              "<Figure size 1080x360 with 1 Axes>"
            ],
            "image/png": "[encoded data removed]"
          },
          "metadata": {
            "needs_background": "light"
          }
        }
      ],
      "source": [
        "grafica1 = df[\"consultante_genero\"].value_counts().plot(kind=\"bar\", figsize= (15,5))\n",
        "plt.title(\"consultante_genero\")"
      ]
    },
    {
      "cell_type": "code",
      "execution_count": null,
      "metadata": {
        "colab": {
          "base_uri": "https://localhost:8080/",
          "height": 365
        },
        "id": "LdRKEZDlZKku",
        "outputId": "b825d516-8007-4ab6-b21f-fc1ced4fff6a"
      },
      "outputs": [
        {
          "output_type": "execute_result",
          "data": {
            "text/plain": [
              "Text(0.5, 1.0, 'consultante_edad_aparente')"
            ]
          },
          "metadata": {},
          "execution_count": 156
        },
        {
          "output_type": "display_data",
          "data": {
            "text/plain": [
              "<Figure size 1080x360 with 1 Axes>"
            ],
            "image/png": "[encoded data removed]"
          },
          "metadata": {
            "needs_background": "light"
          }
        }
      ],
      "source": [
        "grafica1 = df[\"consultante_edad_aparente\"].value_counts().plot(kind=\"bar\", figsize= (15,5))\n",
        "plt.title(\"consultante_edad_aparente\")"
      ]
    },
    {
      "cell_type": "code",
      "execution_count": null,
      "metadata": {
        "colab": {
          "base_uri": "https://localhost:8080/"
        },
        "id": "gtmh9ACJZ_M8",
        "outputId": "7c1fc710-bc97-4e8f-f324-1da2be1c01db"
      },
      "outputs": [
        {
          "output_type": "stream",
          "name": "stdout",
          "text": [
            "31.196124290010022\n"
          ]
        }
      ],
      "source": [
        "print(df[\"consultante_edad_aparente\"].mean())"
      ]
    },
    {
      "cell_type": "code",
      "execution_count": null,
      "metadata": {
        "id": "Mrm4JY9lahjy"
      },
      "outputs": [],
      "source": [
        "df[\"consultanta_edad_aparente\"]= df[\"consultante_edad_aparente\"].fillna(\"31\")\n"
      ]
    },
    {
      "cell_type": "code",
      "execution_count": null,
      "metadata": {
        "colab": {
          "base_uri": "https://localhost:8080/",
          "height": 365
        },
        "id": "qXRgCP0EauNG",
        "outputId": "18f25ad5-2d87-4c91-fff5-8ae5d085ab18"
      },
      "outputs": [
        {
          "output_type": "execute_result",
          "data": {
            "text/plain": [
              "Text(0.5, 1.0, 'consultante_edad_aparente')"
            ]
          },
          "metadata": {},
          "execution_count": 120
        },
        {
          "output_type": "display_data",
          "data": {
            "text/plain": [
              "<Figure size 1080x360 with 1 Axes>"
            ],
            "image/png": "[encoded data removed]"
          },
          "metadata": {
            "needs_background": "light"
          }
        }
      ],
      "source": [
        "grafica1 = df[\"consultante_edad_aparente\"].value_counts().plot(kind=\"bar\", figsize= (15,5))\n",
        "plt.title(\"consultante_edad_aparente\")"
      ]
    },
    {
      "cell_type": "code",
      "source": [
        "sns.distplot(df['consultante_edad_aparente'])"
      ],
      "metadata": {
        "colab": {
          "base_uri": "https://localhost:8080/",
          "height": 352
        },
        "id": "fhuhuy89KyTm",
        "outputId": "7435d29b-e223-45f7-df9f-0f5cca94d597"
      },
      "execution_count": null,
      "outputs": [
        {
          "output_type": "stream",
          "name": "stderr",
          "text": [
            "/usr/local/lib/python3.8/dist-packages/seaborn/distributions.py:2619: FutureWarning: `distplot` is a deprecated function and will be removed in a future version. Please adapt your code to use either `displot` (a figure-level function with similar flexibility) or `histplot` (an axes-level function for histograms).\n",
            "  warnings.warn(msg, FutureWarning)\n"
          ]
        },
        {
          "output_type": "execute_result",
          "data": {
            "text/plain": [
              "<matplotlib.axes._subplots.AxesSubplot at 0x7f7e0c9ebd60>"
            ]
          },
          "metadata": {},
          "execution_count": 158
        },
        {
          "output_type": "display_data",
          "data": {
            "text/plain": [
              "<Figure size 432x288 with 1 Axes>"
            ],
            "image/png": "[encoded data removed]"
          },
          "metadata": {
            "needs_background": "light"
          }
        }
      ]
    },
    {
      "cell_type": "code",
      "execution_count": null,
      "metadata": {
        "id": "Hzu3RTN7qOrP"
      },
      "outputs": [],
      "source": [
        "df = df.drop(columns = [\"fecha_ingreso\",\"nro_registro_interno\",\"hora_ingreso\",\"consultante_nacionalidad\",\"consultante_provincia\",\"consultante_localidad\",\"consultante_como_conocio_la_linea\", \"consultante_edad_aparente\", \"provincia_indec_id\"])"
      ]
    },
    {
      "cell_type": "code",
      "execution_count": null,
      "metadata": {
        "colab": {
          "base_uri": "https://localhost:8080/"
        },
        "id": "57qT0csHt_qx",
        "outputId": "63ccbf83-3e33-4c68-ad91-89b8a0e47bf9"
      },
      "outputs": [
        {
          "output_type": "execute_result",
          "data": {
            "text/plain": [
              "situacion                    0\n",
              "origen                       0\n",
              "es_anonima                   0\n",
              "tema                         0\n",
              "subtema                      0\n",
              "provincia                    0\n",
              "localidad                    0\n",
              "dependencia_alta             0\n",
              "via_ingreso                  0\n",
              "consultante_tipo             0\n",
              "consultante_genero           0\n",
              "consultanta_edad_aparente    0\n",
              "dtype: int64"
            ]
          },
          "metadata": {},
          "execution_count": 123
        }
      ],
      "source": [
        "df.isnull().sum()"
      ]
    },
    {
      "cell_type": "code",
      "source": [
        "df"
      ],
      "metadata": {
        "colab": {
          "base_uri": "https://localhost:8080/",
          "height": 713
        },
        "id": "dFtOQOvomaVT",
        "outputId": "de24e2b5-1e8b-430a-81d5-1700a07b617b"
      },
      "execution_count": null,
      "outputs": [
        {
          "output_type": "execute_result",
          "data": {
            "text/plain": [
              "     situacion     origen es_anonima                   tema  \\\n",
              "0     Urgencia  Ciudadano         No                  Trata   \n",
              "1     Urgencia  Ciudadano         No  Relaciones de familia   \n",
              "2     Urgencia  Ciudadano         Si                  Trata   \n",
              "3     Urgencia  Ciudadano         Si    Violencia de género   \n",
              "4     Urgencia  Ciudadano         Si                  Trata   \n",
              "...        ...        ...        ...                    ...   \n",
              "4276  Urgencia  Ciudadano         No                  Trata   \n",
              "4277  Urgencia  Ciudadano         No                  Salud   \n",
              "4278  Urgencia  Ciudadano         Sí                  Trata   \n",
              "4279  Urgencia  Ciudadano         No                  Trata   \n",
              "4280  Urgencia  Ciudadano         Sí                  Trata   \n",
              "\n",
              "                                             subtema  \\\n",
              "0                               Persona desaparecida   \n",
              "1     Deberes de responsabilidad parental o familiar   \n",
              "2                                 Explotación sexual   \n",
              "3                                          Económica   \n",
              "4                                 Explotación sexual   \n",
              "...                                              ...   \n",
              "4276                                    Salud mental   \n",
              "4277                                    Salud mental   \n",
              "4278                              Explotación sexual   \n",
              "4279                              Explotación sexual   \n",
              "4280                              Explotación sexual   \n",
              "\n",
              "                            provincia                        localidad  \\\n",
              "0     Ciudad Autónoma de Buenos Aires  Ciudad Autónoma de Buenos Aires   \n",
              "1                               Jujuy                     Buenos Aires   \n",
              "2                        Buenos Aires                     Buenos Aires   \n",
              "3                               Salta                            Salta   \n",
              "4                        Buenos Aires                     Buenos Aires   \n",
              "...                               ...                              ...   \n",
              "4276                     Buenos Aires                     Buenos Aires   \n",
              "4277                        Río Negro                        Rio Negro   \n",
              "4278                         Misiones                           Garupá   \n",
              "4279                     Buenos Aires                      José C. Paz   \n",
              "4280                     Buenos Aires                     Buenos Aires   \n",
              "\n",
              "     dependencia_alta via_ingreso         consultante_tipo consultante_genero  \\\n",
              "0     PNR - Línea 145   Línea 145  Consultante - ciudadano              Mujer   \n",
              "1     PNR - Línea 145   Línea 145  Consultante - ciudadano              Mujer   \n",
              "2     PNR - Línea 145   Línea 145  Consultante - ciudadano              Mujer   \n",
              "3     PNR - Línea 145   Línea 145              Consultante              Mujer   \n",
              "4     PNR - Línea 145   Línea 145              Consultante              Mujer   \n",
              "...               ...         ...                      ...                ...   \n",
              "4276  PNR - Línea 145   Línea 145              Consultante          Mujer cis   \n",
              "4277  PNR - Línea 145   Línea 145              Consultante              Mujer   \n",
              "4278  PNR - Línea 145   Línea 145              Consultante        Varón trans   \n",
              "4279  PNR - Línea 145   Línea 145              Consultante          Varón cis   \n",
              "4280  PNR - Línea 145   Línea 145              Consultante             Hombre   \n",
              "\n",
              "     consultanta_edad_aparente  \n",
              "0                         25.0  \n",
              "1                           31  \n",
              "2                           31  \n",
              "3                           31  \n",
              "4                           31  \n",
              "...                        ...  \n",
              "4276                       0.0  \n",
              "4277                      65.0  \n",
              "4278                      30.0  \n",
              "4279                      51.0  \n",
              "4280                       0.0  \n",
              "\n",
              "[4281 rows x 12 columns]"
            ],
            "text/html": [
              "\n",
              "  <div id=\"df-a50937ea-b2bb-4f7a-862b-df3cede4ed00\">\n",
              "    <div class=\"colab-df-container\">\n",
              "      <div>\n",
              "<style scoped>\n",
              "    .dataframe tbody tr th:only-of-type {\n",
              "        vertical-align: middle;\n",
              "    }\n",
              "\n",
              "    .dataframe tbody tr th {\n",
              "        vertical-align: top;\n",
              "    }\n",
              "\n",
              "    .dataframe thead th {\n",
              "        text-align: right;\n",
              "    }\n",
              "</style>\n",
              "<table border=\"1\" class=\"dataframe\">\n",
              "  <thead>\n",
              "    <tr style=\"text-align: right;\">\n",
              "      <th></th>\n",
              "      <th>situacion</th>\n",
              "      <th>origen</th>\n",
              "      <th>es_anonima</th>\n",
              "      <th>tema</th>\n",
              "      <th>subtema</th>\n",
              "      <th>provincia</th>\n",
              "      <th>localidad</th>\n",
              "      <th>dependencia_alta</th>\n",
              "      <th>via_ingreso</th>\n",
              "      <th>consultante_tipo</th>\n",
              "      <th>consultante_genero</th>\n",
              "      <th>consultanta_edad_aparente</th>\n",
              "    </tr>\n",
              "  </thead>\n",
              "  <tbody>\n",
              "    <tr>\n",
              "      <th>0</th>\n",
              "      <td>Urgencia</td>\n",
              "      <td>Ciudadano</td>\n",
              "      <td>No</td>\n",
              "      <td>Trata</td>\n",
              "      <td>Persona desaparecida</td>\n",
              "      <td>Ciudad Autónoma de Buenos Aires</td>\n",
              "      <td>Ciudad Autónoma de Buenos Aires</td>\n",
              "      <td>PNR - Línea 145</td>\n",
              "      <td>Línea 145</td>\n",
              "      <td>Consultante - ciudadano</td>\n",
              "      <td>Mujer</td>\n",
              "      <td>25.0</td>\n",
              "    </tr>\n",
              "    <tr>\n",
              "      <th>1</th>\n",
              "      <td>Urgencia</td>\n",
              "      <td>Ciudadano</td>\n",
              "      <td>No</td>\n",
              "      <td>Relaciones de familia</td>\n",
              "      <td>Deberes de responsabilidad parental o familiar</td>\n",
              "      <td>Jujuy</td>\n",
              "      <td>Buenos Aires</td>\n",
              "      <td>PNR - Línea 145</td>\n",
              "      <td>Línea 145</td>\n",
              "      <td>Consultante - ciudadano</td>\n",
              "      <td>Mujer</td>\n",
              "      <td>31</td>\n",
              "    </tr>\n",
              "    <tr>\n",
              "      <th>2</th>\n",
              "      <td>Urgencia</td>\n",
              "      <td>Ciudadano</td>\n",
              "      <td>Si</td>\n",
              "      <td>Trata</td>\n",
              "      <td>Explotación sexual</td>\n",
              "      <td>Buenos Aires</td>\n",
              "      <td>Buenos Aires</td>\n",
              "      <td>PNR - Línea 145</td>\n",
              "      <td>Línea 145</td>\n",
              "      <td>Consultante - ciudadano</td>\n",
              "      <td>Mujer</td>\n",
              "      <td>31</td>\n",
              "    </tr>\n",
              "    <tr>\n",
              "      <th>3</th>\n",
              "      <td>Urgencia</td>\n",
              "      <td>Ciudadano</td>\n",
              "      <td>Si</td>\n",
              "      <td>Violencia de género</td>\n",
              "      <td>Económica</td>\n",
              "      <td>Salta</td>\n",
              "      <td>Salta</td>\n",
              "      <td>PNR - Línea 145</td>\n",
              "      <td>Línea 145</td>\n",
              "      <td>Consultante</td>\n",
              "      <td>Mujer</td>\n",
              "      <td>31</td>\n",
              "    </tr>\n",
              "    <tr>\n",
              "      <th>4</th>\n",
              "      <td>Urgencia</td>\n",
              "      <td>Ciudadano</td>\n",
              "      <td>Si</td>\n",
              "      <td>Trata</td>\n",
              "      <td>Explotación sexual</td>\n",
              "      <td>Buenos Aires</td>\n",
              "      <td>Buenos Aires</td>\n",
              "      <td>PNR - Línea 145</td>\n",
              "      <td>Línea 145</td>\n",
              "      <td>Consultante</td>\n",
              "      <td>Mujer</td>\n",
              "      <td>31</td>\n",
              "    </tr>\n",
              "    <tr>\n",
              "      <th>...</th>\n",
              "      <td>...</td>\n",
              "      <td>...</td>\n",
              "      <td>...</td>\n",
              "      <td>...</td>\n",
              "      <td>...</td>\n",
              "      <td>...</td>\n",
              "      <td>...</td>\n",
              "      <td>...</td>\n",
              "      <td>...</td>\n",
              "      <td>...</td>\n",
              "      <td>...</td>\n",
              "      <td>...</td>\n",
              "    </tr>\n",
              "    <tr>\n",
              "      <th>4276</th>\n",
              "      <td>Urgencia</td>\n",
              "      <td>Ciudadano</td>\n",
              "      <td>No</td>\n",
              "      <td>Trata</td>\n",
              "      <td>Salud mental</td>\n",
              "      <td>Buenos Aires</td>\n",
              "      <td>Buenos Aires</td>\n",
              "      <td>PNR - Línea 145</td>\n",
              "      <td>Línea 145</td>\n",
              "      <td>Consultante</td>\n",
              "      <td>Mujer cis</td>\n",
              "      <td>0.0</td>\n",
              "    </tr>\n",
              "    <tr>\n",
              "      <th>4277</th>\n",
              "      <td>Urgencia</td>\n",
              "      <td>Ciudadano</td>\n",
              "      <td>No</td>\n",
              "      <td>Salud</td>\n",
              "      <td>Salud mental</td>\n",
              "      <td>Río Negro</td>\n",
              "      <td>Rio Negro</td>\n",
              "      <td>PNR - Línea 145</td>\n",
              "      <td>Línea 145</td>\n",
              "      <td>Consultante</td>\n",
              "      <td>Mujer</td>\n",
              "      <td>65.0</td>\n",
              "    </tr>\n",
              "    <tr>\n",
              "      <th>4278</th>\n",
              "      <td>Urgencia</td>\n",
              "      <td>Ciudadano</td>\n",
              "      <td>Sí</td>\n",
              "      <td>Trata</td>\n",
              "      <td>Explotación sexual</td>\n",
              "      <td>Misiones</td>\n",
              "      <td>Garupá</td>\n",
              "      <td>PNR - Línea 145</td>\n",
              "      <td>Línea 145</td>\n",
              "      <td>Consultante</td>\n",
              "      <td>Varón trans</td>\n",
              "      <td>30.0</td>\n",
              "    </tr>\n",
              "    <tr>\n",
              "      <th>4279</th>\n",
              "      <td>Urgencia</td>\n",
              "      <td>Ciudadano</td>\n",
              "      <td>No</td>\n",
              "      <td>Trata</td>\n",
              "      <td>Explotación sexual</td>\n",
              "      <td>Buenos Aires</td>\n",
              "      <td>José C. Paz</td>\n",
              "      <td>PNR - Línea 145</td>\n",
              "      <td>Línea 145</td>\n",
              "      <td>Consultante</td>\n",
              "      <td>Varón cis</td>\n",
              "      <td>51.0</td>\n",
              "    </tr>\n",
              "    <tr>\n",
              "      <th>4280</th>\n",
              "      <td>Urgencia</td>\n",
              "      <td>Ciudadano</td>\n",
              "      <td>Sí</td>\n",
              "      <td>Trata</td>\n",
              "      <td>Explotación sexual</td>\n",
              "      <td>Buenos Aires</td>\n",
              "      <td>Buenos Aires</td>\n",
              "      <td>PNR - Línea 145</td>\n",
              "      <td>Línea 145</td>\n",
              "      <td>Consultante</td>\n",
              "      <td>Hombre</td>\n",
              "      <td>0.0</td>\n",
              "    </tr>\n",
              "  </tbody>\n",
              "</table>\n",
              "<p>4281 rows × 12 columns</p>\n",
              "</div>\n",
              "      <button class=\"colab-df-convert\" onclick=\"convertToInteractive('df-a50937ea-b2bb-4f7a-862b-df3cede4ed00')\"\n",
              "              title=\"Convert this dataframe to an interactive table.\"\n",
              "              style=\"display:none;\">\n",
              "        \n",
              "  <svg xmlns=\"http://www.w3.org/2000/svg\" height=\"24px\"viewBox=\"0 0 24 24\"\n",
              "       width=\"24px\">\n",
              "    <path d=\"M0 0h24v24H0V0z\" fill=\"none\"/>\n",
              "    <path d=\"M18.56 5.44l.94 2.06.94-2.06 2.06-.94-2.06-.94-.94-2.06-.94 2.06-2.06.94zm-11 1L8.5 8.5l.94-2.06 2.06-.94-2.06-.94L8.5 2.5l-.94 2.06-2.06.94zm10 10l.94 2.06.94-2.06 2.06-.94-2.06-.94-.94-2.06-.94 2.06-2.06.94z\"/><path d=\"M17.41 7.96l-1.37-1.37c-.4-.4-.92-.59-1.43-.59-.52 0-1.04.2-1.43.59L10.3 9.45l-7.72 7.72c-.78.78-.78 2.05 0 2.83L4 21.41c.39.39.9.59 1.41.59.51 0 1.02-.2 1.41-.59l7.78-7.78 2.81-2.81c.8-.78.8-2.07 0-2.86zM5.41 20L4 18.59l7.72-7.72 1.47 1.35L5.41 20z\"/>\n",
              "  </svg>\n",
              "      </button>\n",
              "      \n",
              "  <style>\n",
              "    .colab-df-container {\n",
              "      display:flex;\n",
              "      flex-wrap:wrap;\n",
              "      gap: 12px;\n",
              "    }\n",
              "\n",
              "    .colab-df-convert {\n",
              "      background-color: #E8F0FE;\n",
              "      border: none;\n",
              "      border-radius: 50%;\n",
              "      cursor: pointer;\n",
              "      display: none;\n",
              "      fill: #1967D2;\n",
              "      height: 32px;\n",
              "      padding: 0 0 0 0;\n",
              "      width: 32px;\n",
              "    }\n",
              "\n",
              "    .colab-df-convert:hover {\n",
              "      background-color: #E2EBFA;\n",
              "      box-shadow: 0px 1px 2px rgba(60, 64, 67, 0.3), 0px 1px 3px 1px rgba(60, 64, 67, 0.15);\n",
              "      fill: #174EA6;\n",
              "    }\n",
              "\n",
              "    [theme=dark] .colab-df-convert {\n",
              "      background-color: #3B4455;\n",
              "      fill: #D2E3FC;\n",
              "    }\n",
              "\n",
              "    [theme=dark] .colab-df-convert:hover {\n",
              "      background-color: #434B5C;\n",
              "      box-shadow: 0px 1px 3px 1px rgba(0, 0, 0, 0.15);\n",
              "      filter: drop-shadow(0px 1px 2px rgba(0, 0, 0, 0.3));\n",
              "      fill: #FFFFFF;\n",
              "    }\n",
              "  </style>\n",
              "\n",
              "      <script>\n",
              "        const buttonEl =\n",
              "          document.querySelector('#df-a50937ea-b2bb-4f7a-862b-df3cede4ed00 button.colab-df-convert');\n",
              "        buttonEl.style.display =\n",
              "          google.colab.kernel.accessAllowed ? 'block' : 'none';\n",
              "\n",
              "        async function convertToInteractive(key) {\n",
              "          const element = document.querySelector('#df-a50937ea-b2bb-4f7a-862b-df3cede4ed00');\n",
              "          const dataTable =\n",
              "            await google.colab.kernel.invokeFunction('convertToInteractive',\n",
              "                                                     [key], {});\n",
              "          if (!dataTable) return;\n",
              "\n",
              "          const docLinkHtml = 'Like what you see? Visit the ' +\n",
              "            '<a target=\"_blank\" href=https://colab.research.google.com/notebooks/data_table.ipynb>data table notebook</a>'\n",
              "            + ' to learn more about interactive tables.';\n",
              "          element.innerHTML = '';\n",
              "          dataTable['output_type'] = 'display_data';\n",
              "          await google.colab.output.renderOutput(dataTable, element);\n",
              "          const docLink = document.createElement('div');\n",
              "          docLink.innerHTML = docLinkHtml;\n",
              "          element.appendChild(docLink);\n",
              "        }\n",
              "      </script>\n",
              "    </div>\n",
              "  </div>\n",
              "  "
            ]
          },
          "metadata": {},
          "execution_count": 124
        }
      ]
    },
    {
      "cell_type": "code",
      "source": [
        "grafica1 = df[\"es_anonima\"].value_counts().plot(kind=\"bar\", figsize= (15,5))\n",
        "plt.title(\"es_anonima\")"
      ],
      "metadata": {
        "colab": {
          "base_uri": "https://localhost:8080/",
          "height": 356
        },
        "id": "Tbkt2dR_plYr",
        "outputId": "0f3be992-ec55-40b0-b058-5bc469a9e15f"
      },
      "execution_count": null,
      "outputs": [
        {
          "output_type": "execute_result",
          "data": {
            "text/plain": [
              "Text(0.5, 1.0, 'es_anonima')"
            ]
          },
          "metadata": {},
          "execution_count": 76
        },
        {
          "output_type": "display_data",
          "data": {
            "text/plain": [
              "<Figure size 1080x360 with 1 Axes>"
            ],
            "image/png": "[encoded data removed]"
          },
          "metadata": {
            "needs_background": "light"
          }
        }
      ]
    },
    {
      "cell_type": "code",
      "source": [
        "df[\"es_anonima\"] = df[\"es_anonima\"].replace({\"Si\":1, \"Sí\":1, \"No\":0})"
      ],
      "metadata": {
        "id": "6EncCw8tum4Y"
      },
      "execution_count": null,
      "outputs": []
    },
    {
      "cell_type": "code",
      "source": [
        "sns.distplot(df['es_anonima'])"
      ],
      "metadata": {
        "colab": {
          "base_uri": "https://localhost:8080/",
          "height": 352
        },
        "id": "IbzXGuYmNdYU",
        "outputId": "9753f7c9-44c5-447c-94c2-150d0fcf7d28"
      },
      "execution_count": null,
      "outputs": [
        {
          "output_type": "stream",
          "name": "stderr",
          "text": [
            "/usr/local/lib/python3.8/dist-packages/seaborn/distributions.py:2619: FutureWarning: `distplot` is a deprecated function and will be removed in a future version. Please adapt your code to use either `displot` (a figure-level function with similar flexibility) or `histplot` (an axes-level function for histograms).\n",
            "  warnings.warn(msg, FutureWarning)\n"
          ]
        },
        {
          "output_type": "execute_result",
          "data": {
            "text/plain": [
              "<matplotlib.axes._subplots.AxesSubplot at 0x7f7e0c5507f0>"
            ]
          },
          "metadata": {},
          "execution_count": 165
        },
        {
          "output_type": "display_data",
          "data": {
            "text/plain": [
              "<Figure size 432x288 with 1 Axes>"
            ],
            "image/png": "[encoded data removed]"
          },
          "metadata": {
            "needs_background": "light"
          }
        }
      ]
    },
    {
      "cell_type": "code",
      "source": [
        "df[\"consultante_genero\"] = df[\"consultante_genero\"].replace({\"Mujer\":1, \"Hombre\":0, \"Mujer cis\":1.5,\"Varón cis\":0.5, \"Mujer trans - travesti\":1.2,\"No sabe / no contesta\":3, \"Transexual\":2, \"Transgénero\":2.2, \"Varón trans\": 0.2, \"Intersex\": 4, \"Travesti\":0.2, \"Transgenero\":2.2 })"
      ],
      "metadata": {
        "id": "VsOZnQXNy9xS"
      },
      "execution_count": null,
      "outputs": []
    },
    {
      "cell_type": "code",
      "source": [
        "grafica1 = df[\"consultante_genero\"].value_counts().plot(kind=\"bar\", figsize= (15,5))\n",
        "plt.title(\"consultante_genero\")"
      ],
      "metadata": {
        "colab": {
          "base_uri": "https://localhost:8080/",
          "height": 359
        },
        "id": "ln3sMyEzCM8v",
        "outputId": "50423383-0150-419a-ba87-94ab35684c4a"
      },
      "execution_count": null,
      "outputs": [
        {
          "output_type": "execute_result",
          "data": {
            "text/plain": [
              "Text(0.5, 1.0, 'consultante_genero')"
            ]
          },
          "metadata": {},
          "execution_count": 128
        },
        {
          "output_type": "display_data",
          "data": {
            "text/plain": [
              "<Figure size 1080x360 with 1 Axes>"
            ],
            "image/png": "[encoded data removed]"
          },
          "metadata": {
            "needs_background": "light"
          }
        }
      ]
    },
    {
      "cell_type": "code",
      "source": [
        "sns.distplot(df['consultante_genero'])"
      ],
      "metadata": {
        "colab": {
          "base_uri": "https://localhost:8080/",
          "height": 297
        },
        "id": "7sLWRhtrPMfq",
        "outputId": "5d603847-d53e-4afb-e2b3-ff675e11447b"
      },
      "execution_count": null,
      "outputs": [
        {
          "output_type": "execute_result",
          "data": {
            "text/plain": [
              "<matplotlib.axes._subplots.AxesSubplot at 0x7f7e0c40df10>"
            ]
          },
          "metadata": {},
          "execution_count": 169
        },
        {
          "output_type": "display_data",
          "data": {
            "text/plain": [
              "<Figure size 432x288 with 1 Axes>"
            ],
            "image/png": "[encoded data removed]"
          },
          "metadata": {
            "needs_background": "light"
          }
        }
      ]
    },
    {
      "cell_type": "code",
      "source": [
        "df"
      ],
      "metadata": {
        "colab": {
          "base_uri": "https://localhost:8080/",
          "height": 713
        },
        "id": "InsIX7B8He99",
        "outputId": "2248466d-336a-4aa7-955a-d901b2faf343"
      },
      "execution_count": null,
      "outputs": [
        {
          "output_type": "execute_result",
          "data": {
            "text/plain": [
              "     situacion     origen  es_anonima                   tema  \\\n",
              "0     Urgencia  Ciudadano           0                  Trata   \n",
              "1     Urgencia  Ciudadano           0  Relaciones de familia   \n",
              "2     Urgencia  Ciudadano           1                  Trata   \n",
              "3     Urgencia  Ciudadano           1    Violencia de género   \n",
              "4     Urgencia  Ciudadano           1                  Trata   \n",
              "...        ...        ...         ...                    ...   \n",
              "4276  Urgencia  Ciudadano           0                  Trata   \n",
              "4277  Urgencia  Ciudadano           0                  Salud   \n",
              "4278  Urgencia  Ciudadano           1                  Trata   \n",
              "4279  Urgencia  Ciudadano           0                  Trata   \n",
              "4280  Urgencia  Ciudadano           1                  Trata   \n",
              "\n",
              "                                             subtema  \\\n",
              "0                               Persona desaparecida   \n",
              "1     Deberes de responsabilidad parental o familiar   \n",
              "2                                 Explotación sexual   \n",
              "3                                          Económica   \n",
              "4                                 Explotación sexual   \n",
              "...                                              ...   \n",
              "4276                                    Salud mental   \n",
              "4277                                    Salud mental   \n",
              "4278                              Explotación sexual   \n",
              "4279                              Explotación sexual   \n",
              "4280                              Explotación sexual   \n",
              "\n",
              "                            provincia                        localidad  \\\n",
              "0     Ciudad Autónoma de Buenos Aires  Ciudad Autónoma de Buenos Aires   \n",
              "1                               Jujuy                     Buenos Aires   \n",
              "2                        Buenos Aires                     Buenos Aires   \n",
              "3                               Salta                            Salta   \n",
              "4                        Buenos Aires                     Buenos Aires   \n",
              "...                               ...                              ...   \n",
              "4276                     Buenos Aires                     Buenos Aires   \n",
              "4277                        Río Negro                        Rio Negro   \n",
              "4278                         Misiones                           Garupá   \n",
              "4279                     Buenos Aires                      José C. Paz   \n",
              "4280                     Buenos Aires                     Buenos Aires   \n",
              "\n",
              "     dependencia_alta via_ingreso         consultante_tipo  \\\n",
              "0     PNR - Línea 145   Línea 145  Consultante - ciudadano   \n",
              "1     PNR - Línea 145   Línea 145  Consultante - ciudadano   \n",
              "2     PNR - Línea 145   Línea 145  Consultante - ciudadano   \n",
              "3     PNR - Línea 145   Línea 145              Consultante   \n",
              "4     PNR - Línea 145   Línea 145              Consultante   \n",
              "...               ...         ...                      ...   \n",
              "4276  PNR - Línea 145   Línea 145              Consultante   \n",
              "4277  PNR - Línea 145   Línea 145              Consultante   \n",
              "4278  PNR - Línea 145   Línea 145              Consultante   \n",
              "4279  PNR - Línea 145   Línea 145              Consultante   \n",
              "4280  PNR - Línea 145   Línea 145              Consultante   \n",
              "\n",
              "      consultante_genero consultanta_edad_aparente  \n",
              "0                    1.0                      25.0  \n",
              "1                    1.0                        31  \n",
              "2                    1.0                        31  \n",
              "3                    1.0                        31  \n",
              "4                    1.0                        31  \n",
              "...                  ...                       ...  \n",
              "4276                 1.5                       0.0  \n",
              "4277                 1.0                      65.0  \n",
              "4278                 0.2                      30.0  \n",
              "4279                 0.5                      51.0  \n",
              "4280                 0.0                       0.0  \n",
              "\n",
              "[4281 rows x 12 columns]"
            ],
            "text/html": [
              "\n",
              "  <div id=\"df-c8f28dd6-5c65-4f76-ad3d-35d34fa24ef6\">\n",
              "    <div class=\"colab-df-container\">\n",
              "      <div>\n",
              "<style scoped>\n",
              "    .dataframe tbody tr th:only-of-type {\n",
              "        vertical-align: middle;\n",
              "    }\n",
              "\n",
              "    .dataframe tbody tr th {\n",
              "        vertical-align: top;\n",
              "    }\n",
              "\n",
              "    .dataframe thead th {\n",
              "        text-align: right;\n",
              "    }\n",
              "</style>\n",
              "<table border=\"1\" class=\"dataframe\">\n",
              "  <thead>\n",
              "    <tr style=\"text-align: right;\">\n",
              "      <th></th>\n",
              "      <th>situacion</th>\n",
              "      <th>origen</th>\n",
              "      <th>es_anonima</th>\n",
              "      <th>tema</th>\n",
              "      <th>subtema</th>\n",
              "      <th>provincia</th>\n",
              "      <th>localidad</th>\n",
              "      <th>dependencia_alta</th>\n",
              "      <th>via_ingreso</th>\n",
              "      <th>consultante_tipo</th>\n",
              "      <th>consultante_genero</th>\n",
              "      <th>consultanta_edad_aparente</th>\n",
              "    </tr>\n",
              "  </thead>\n",
              "  <tbody>\n",
              "    <tr>\n",
              "      <th>0</th>\n",
              "      <td>Urgencia</td>\n",
              "      <td>Ciudadano</td>\n",
              "      <td>0</td>\n",
              "      <td>Trata</td>\n",
              "      <td>Persona desaparecida</td>\n",
              "      <td>Ciudad Autónoma de Buenos Aires</td>\n",
              "      <td>Ciudad Autónoma de Buenos Aires</td>\n",
              "      <td>PNR - Línea 145</td>\n",
              "      <td>Línea 145</td>\n",
              "      <td>Consultante - ciudadano</td>\n",
              "      <td>1.0</td>\n",
              "      <td>25.0</td>\n",
              "    </tr>\n",
              "    <tr>\n",
              "      <th>1</th>\n",
              "      <td>Urgencia</td>\n",
              "      <td>Ciudadano</td>\n",
              "      <td>0</td>\n",
              "      <td>Relaciones de familia</td>\n",
              "      <td>Deberes de responsabilidad parental o familiar</td>\n",
              "      <td>Jujuy</td>\n",
              "      <td>Buenos Aires</td>\n",
              "      <td>PNR - Línea 145</td>\n",
              "      <td>Línea 145</td>\n",
              "      <td>Consultante - ciudadano</td>\n",
              "      <td>1.0</td>\n",
              "      <td>31</td>\n",
              "    </tr>\n",
              "    <tr>\n",
              "      <th>2</th>\n",
              "      <td>Urgencia</td>\n",
              "      <td>Ciudadano</td>\n",
              "      <td>1</td>\n",
              "      <td>Trata</td>\n",
              "      <td>Explotación sexual</td>\n",
              "      <td>Buenos Aires</td>\n",
              "      <td>Buenos Aires</td>\n",
              "      <td>PNR - Línea 145</td>\n",
              "      <td>Línea 145</td>\n",
              "      <td>Consultante - ciudadano</td>\n",
              "      <td>1.0</td>\n",
              "      <td>31</td>\n",
              "    </tr>\n",
              "    <tr>\n",
              "      <th>3</th>\n",
              "      <td>Urgencia</td>\n",
              "      <td>Ciudadano</td>\n",
              "      <td>1</td>\n",
              "      <td>Violencia de género</td>\n",
              "      <td>Económica</td>\n",
              "      <td>Salta</td>\n",
              "      <td>Salta</td>\n",
              "      <td>PNR - Línea 145</td>\n",
              "      <td>Línea 145</td>\n",
              "      <td>Consultante</td>\n",
              "      <td>1.0</td>\n",
              "      <td>31</td>\n",
              "    </tr>\n",
              "    <tr>\n",
              "      <th>4</th>\n",
              "      <td>Urgencia</td>\n",
              "      <td>Ciudadano</td>\n",
              "      <td>1</td>\n",
              "      <td>Trata</td>\n",
              "      <td>Explotación sexual</td>\n",
              "      <td>Buenos Aires</td>\n",
              "      <td>Buenos Aires</td>\n",
              "      <td>PNR - Línea 145</td>\n",
              "      <td>Línea 145</td>\n",
              "      <td>Consultante</td>\n",
              "      <td>1.0</td>\n",
              "      <td>31</td>\n",
              "    </tr>\n",
              "    <tr>\n",
              "      <th>...</th>\n",
              "      <td>...</td>\n",
              "      <td>...</td>\n",
              "      <td>...</td>\n",
              "      <td>...</td>\n",
              "      <td>...</td>\n",
              "      <td>...</td>\n",
              "      <td>...</td>\n",
              "      <td>...</td>\n",
              "      <td>...</td>\n",
              "      <td>...</td>\n",
              "      <td>...</td>\n",
              "      <td>...</td>\n",
              "    </tr>\n",
              "    <tr>\n",
              "      <th>4276</th>\n",
              "      <td>Urgencia</td>\n",
              "      <td>Ciudadano</td>\n",
              "      <td>0</td>\n",
              "      <td>Trata</td>\n",
              "      <td>Salud mental</td>\n",
              "      <td>Buenos Aires</td>\n",
              "      <td>Buenos Aires</td>\n",
              "      <td>PNR - Línea 145</td>\n",
              "      <td>Línea 145</td>\n",
              "      <td>Consultante</td>\n",
              "      <td>1.5</td>\n",
              "      <td>0.0</td>\n",
              "    </tr>\n",
              "    <tr>\n",
              "      <th>4277</th>\n",
              "      <td>Urgencia</td>\n",
              "      <td>Ciudadano</td>\n",
              "      <td>0</td>\n",
              "      <td>Salud</td>\n",
              "      <td>Salud mental</td>\n",
              "      <td>Río Negro</td>\n",
              "      <td>Rio Negro</td>\n",
              "      <td>PNR - Línea 145</td>\n",
              "      <td>Línea 145</td>\n",
              "      <td>Consultante</td>\n",
              "      <td>1.0</td>\n",
              "      <td>65.0</td>\n",
              "    </tr>\n",
              "    <tr>\n",
              "      <th>4278</th>\n",
              "      <td>Urgencia</td>\n",
              "      <td>Ciudadano</td>\n",
              "      <td>1</td>\n",
              "      <td>Trata</td>\n",
              "      <td>Explotación sexual</td>\n",
              "      <td>Misiones</td>\n",
              "      <td>Garupá</td>\n",
              "      <td>PNR - Línea 145</td>\n",
              "      <td>Línea 145</td>\n",
              "      <td>Consultante</td>\n",
              "      <td>0.2</td>\n",
              "      <td>30.0</td>\n",
              "    </tr>\n",
              "    <tr>\n",
              "      <th>4279</th>\n",
              "      <td>Urgencia</td>\n",
              "      <td>Ciudadano</td>\n",
              "      <td>0</td>\n",
              "      <td>Trata</td>\n",
              "      <td>Explotación sexual</td>\n",
              "      <td>Buenos Aires</td>\n",
              "      <td>José C. Paz</td>\n",
              "      <td>PNR - Línea 145</td>\n",
              "      <td>Línea 145</td>\n",
              "      <td>Consultante</td>\n",
              "      <td>0.5</td>\n",
              "      <td>51.0</td>\n",
              "    </tr>\n",
              "    <tr>\n",
              "      <th>4280</th>\n",
              "      <td>Urgencia</td>\n",
              "      <td>Ciudadano</td>\n",
              "      <td>1</td>\n",
              "      <td>Trata</td>\n",
              "      <td>Explotación sexual</td>\n",
              "      <td>Buenos Aires</td>\n",
              "      <td>Buenos Aires</td>\n",
              "      <td>PNR - Línea 145</td>\n",
              "      <td>Línea 145</td>\n",
              "      <td>Consultante</td>\n",
              "      <td>0.0</td>\n",
              "      <td>0.0</td>\n",
              "    </tr>\n",
              "  </tbody>\n",
              "</table>\n",
              "<p>4281 rows × 12 columns</p>\n",
              "</div>\n",
              "      <button class=\"colab-df-convert\" onclick=\"convertToInteractive('df-c8f28dd6-5c65-4f76-ad3d-35d34fa24ef6')\"\n",
              "              title=\"Convert this dataframe to an interactive table.\"\n",
              "              style=\"display:none;\">\n",
              "        \n",
              "  <svg xmlns=\"http://www.w3.org/2000/svg\" height=\"24px\"viewBox=\"0 0 24 24\"\n",
              "       width=\"24px\">\n",
              "    <path d=\"M0 0h24v24H0V0z\" fill=\"none\"/>\n",
              "    <path d=\"M18.56 5.44l.94 2.06.94-2.06 2.06-.94-2.06-.94-.94-2.06-.94 2.06-2.06.94zm-11 1L8.5 8.5l.94-2.06 2.06-.94-2.06-.94L8.5 2.5l-.94 2.06-2.06.94zm10 10l.94 2.06.94-2.06 2.06-.94-2.06-.94-.94-2.06-.94 2.06-2.06.94z\"/><path d=\"M17.41 7.96l-1.37-1.37c-.4-.4-.92-.59-1.43-.59-.52 0-1.04.2-1.43.59L10.3 9.45l-7.72 7.72c-.78.78-.78 2.05 0 2.83L4 21.41c.39.39.9.59 1.41.59.51 0 1.02-.2 1.41-.59l7.78-7.78 2.81-2.81c.8-.78.8-2.07 0-2.86zM5.41 20L4 18.59l7.72-7.72 1.47 1.35L5.41 20z\"/>\n",
              "  </svg>\n",
              "      </button>\n",
              "      \n",
              "  <style>\n",
              "    .colab-df-container {\n",
              "      display:flex;\n",
              "      flex-wrap:wrap;\n",
              "      gap: 12px;\n",
              "    }\n",
              "\n",
              "    .colab-df-convert {\n",
              "      background-color: #E8F0FE;\n",
              "      border: none;\n",
              "      border-radius: 50%;\n",
              "      cursor: pointer;\n",
              "      display: none;\n",
              "      fill: #1967D2;\n",
              "      height: 32px;\n",
              "      padding: 0 0 0 0;\n",
              "      width: 32px;\n",
              "    }\n",
              "\n",
              "    .colab-df-convert:hover {\n",
              "      background-color: #E2EBFA;\n",
              "      box-shadow: 0px 1px 2px rgba(60, 64, 67, 0.3), 0px 1px 3px 1px rgba(60, 64, 67, 0.15);\n",
              "      fill: #174EA6;\n",
              "    }\n",
              "\n",
              "    [theme=dark] .colab-df-convert {\n",
              "      background-color: #3B4455;\n",
              "      fill: #D2E3FC;\n",
              "    }\n",
              "\n",
              "    [theme=dark] .colab-df-convert:hover {\n",
              "      background-color: #434B5C;\n",
              "      box-shadow: 0px 1px 3px 1px rgba(0, 0, 0, 0.15);\n",
              "      filter: drop-shadow(0px 1px 2px rgba(0, 0, 0, 0.3));\n",
              "      fill: #FFFFFF;\n",
              "    }\n",
              "  </style>\n",
              "\n",
              "      <script>\n",
              "        const buttonEl =\n",
              "          document.querySelector('#df-c8f28dd6-5c65-4f76-ad3d-35d34fa24ef6 button.colab-df-convert');\n",
              "        buttonEl.style.display =\n",
              "          google.colab.kernel.accessAllowed ? 'block' : 'none';\n",
              "\n",
              "        async function convertToInteractive(key) {\n",
              "          const element = document.querySelector('#df-c8f28dd6-5c65-4f76-ad3d-35d34fa24ef6');\n",
              "          const dataTable =\n",
              "            await google.colab.kernel.invokeFunction('convertToInteractive',\n",
              "                                                     [key], {});\n",
              "          if (!dataTable) return;\n",
              "\n",
              "          const docLinkHtml = 'Like what you see? Visit the ' +\n",
              "            '<a target=\"_blank\" href=https://colab.research.google.com/notebooks/data_table.ipynb>data table notebook</a>'\n",
              "            + ' to learn more about interactive tables.';\n",
              "          element.innerHTML = '';\n",
              "          dataTable['output_type'] = 'display_data';\n",
              "          await google.colab.output.renderOutput(dataTable, element);\n",
              "          const docLink = document.createElement('div');\n",
              "          docLink.innerHTML = docLinkHtml;\n",
              "          element.appendChild(docLink);\n",
              "        }\n",
              "      </script>\n",
              "    </div>\n",
              "  </div>\n",
              "  "
            ]
          },
          "metadata": {},
          "execution_count": 129
        }
      ]
    },
    {
      "cell_type": "code",
      "source": [
        "df = pd.get_dummies(df[[\"situacion\",\"origen\",\"tema\", \"subtema\",\"provincia\",\"localidad\",\"dependencia_alta\",\"via_ingreso\",\"consultante_tipo\" ]])"
      ],
      "metadata": {
        "id": "0JC4QjJQJ0ZM"
      },
      "execution_count": null,
      "outputs": []
    },
    {
      "cell_type": "code",
      "source": [
        "df"
      ],
      "metadata": {
        "id": "nNupoW5VMS-H",
        "outputId": "f46a80ac-9344-4ecc-d795-f02fcf6a1fb2",
        "colab": {
          "base_uri": "https://localhost:8080/",
          "height": 522
        }
      },
      "execution_count": null,
      "outputs": [
        {
          "output_type": "execute_result",
          "data": {
            "text/plain": [
              "      situacion_Emergencia  situacion_Urgencia  origen_Ciudadano  \\\n",
              "0                        0                   1                 1   \n",
              "1                        0                   1                 1   \n",
              "2                        0                   1                 1   \n",
              "3                        0                   1                 1   \n",
              "4                        0                   1                 1   \n",
              "...                    ...                 ...               ...   \n",
              "4276                     0                   1                 1   \n",
              "4277                     0                   1                 1   \n",
              "4278                     0                   1                 1   \n",
              "4279                     0                   1                 1   \n",
              "4280                     0                   1                 1   \n",
              "\n",
              "      origen_Institución  origen_Institución - 145  \\\n",
              "0                      0                         0   \n",
              "1                      0                         0   \n",
              "2                      0                         0   \n",
              "3                      0                         0   \n",
              "4                      0                         0   \n",
              "...                  ...                       ...   \n",
              "4276                   0                         0   \n",
              "4277                   0                         0   \n",
              "4278                   0                         0   \n",
              "4279                   0                         0   \n",
              "4280                   0                         0   \n",
              "\n",
              "      origen_Institución - Acción Católica  origen_Institución - Afip  \\\n",
              "0                                        0                          0   \n",
              "1                                        0                          0   \n",
              "2                                        0                          0   \n",
              "3                                        0                          0   \n",
              "4                                        0                          0   \n",
              "...                                    ...                        ...   \n",
              "4276                                     0                          0   \n",
              "4277                                     0                          0   \n",
              "4278                                     0                          0   \n",
              "4279                                     0                          0   \n",
              "4280                                     0                          0   \n",
              "\n",
              "      origen_Institución - Asesoría General Tutelar de CABA  \\\n",
              "0                                                     0       \n",
              "1                                                     0       \n",
              "2                                                     0       \n",
              "3                                                     0       \n",
              "4                                                     0       \n",
              "...                                                 ...       \n",
              "4276                                                  0       \n",
              "4277                                                  0       \n",
              "4278                                                  0       \n",
              "4279                                                  0       \n",
              "4280                                                  0       \n",
              "\n",
              "      origen_Institución - CONICET  origen_Institución - CPEM N° 18 NEUQUEN  \\\n",
              "0                                0                                        0   \n",
              "1                                0                                        0   \n",
              "2                                0                                        0   \n",
              "3                                0                                        0   \n",
              "4                                0                                        0   \n",
              "...                            ...                                      ...   \n",
              "4276                             0                                        0   \n",
              "4277                             0                                        0   \n",
              "4278                             0                                        0   \n",
              "4279                             0                                        0   \n",
              "4280                             0                                        0   \n",
              "\n",
              "      ...  via_ingreso_telefono institucional  \\\n",
              "0     ...                                   0   \n",
              "1     ...                                   0   \n",
              "2     ...                                   0   \n",
              "3     ...                                   0   \n",
              "4     ...                                   0   \n",
              "...   ...                                 ...   \n",
              "4276  ...                                   0   \n",
              "4277  ...                                   0   \n",
              "4278  ...                                   0   \n",
              "4279  ...                                   0   \n",
              "4280  ...                                   0   \n",
              "\n",
              "      via_ingreso_teléfono institucional  \\\n",
              "0                                      0   \n",
              "1                                      0   \n",
              "2                                      0   \n",
              "3                                      0   \n",
              "4                                      0   \n",
              "...                                  ...   \n",
              "4276                                   0   \n",
              "4277                                   0   \n",
              "4278                                   0   \n",
              "4279                                   0   \n",
              "4280                                   0   \n",
              "\n",
              "      via_ingreso_teléfono institucional del Programa  \\\n",
              "0                                                   0   \n",
              "1                                                   0   \n",
              "2                                                   0   \n",
              "3                                                   0   \n",
              "4                                                   0   \n",
              "...                                               ...   \n",
              "4276                                                0   \n",
              "4277                                                0   \n",
              "4278                                                0   \n",
              "4279                                                0   \n",
              "4280                                                0   \n",
              "\n",
              "      consultante_tipo_Consultante  consultante_tipo_Consultante - ciudadano  \\\n",
              "0                                0                                         1   \n",
              "1                                0                                         1   \n",
              "2                                0                                         1   \n",
              "3                                1                                         0   \n",
              "4                                1                                         0   \n",
              "...                            ...                                       ...   \n",
              "4276                             1                                         0   \n",
              "4277                             1                                         0   \n",
              "4278                             1                                         0   \n",
              "4279                             1                                         0   \n",
              "4280                             1                                         0   \n",
              "\n",
              "      consultante_tipo_Consultante - institucion  \\\n",
              "0                                              0   \n",
              "1                                              0   \n",
              "2                                              0   \n",
              "3                                              0   \n",
              "4                                              0   \n",
              "...                                          ...   \n",
              "4276                                           0   \n",
              "4277                                           0   \n",
              "4278                                           0   \n",
              "4279                                           0   \n",
              "4280                                           0   \n",
              "\n",
              "      consultante_tipo_Consultante - victima directa  \\\n",
              "0                                                  0   \n",
              "1                                                  0   \n",
              "2                                                  0   \n",
              "3                                                  0   \n",
              "4                                                  0   \n",
              "...                                              ...   \n",
              "4276                                               0   \n",
              "4277                                               0   \n",
              "4278                                               0   \n",
              "4279                                               0   \n",
              "4280                                               0   \n",
              "\n",
              "      consultante_tipo_Denunciante  consultante_tipo_Denunciante - ciudadano  \\\n",
              "0                                0                                         0   \n",
              "1                                0                                         0   \n",
              "2                                0                                         0   \n",
              "3                                0                                         0   \n",
              "4                                0                                         0   \n",
              "...                            ...                                       ...   \n",
              "4276                             0                                         0   \n",
              "4277                             0                                         0   \n",
              "4278                             0                                         0   \n",
              "4279                             0                                         0   \n",
              "4280                             0                                         0   \n",
              "\n",
              "      consultante_tipo_Denunciante - victima directa  \n",
              "0                                                  0  \n",
              "1                                                  0  \n",
              "2                                                  0  \n",
              "3                                                  0  \n",
              "4                                                  0  \n",
              "...                                              ...  \n",
              "4276                                               0  \n",
              "4277                                               0  \n",
              "4278                                               0  \n",
              "4279                                               0  \n",
              "4280                                               0  \n",
              "\n",
              "[4281 rows x 1414 columns]"
            ],
            "text/html": [
              "\n",
              "  <div id=\"df-e64c774e-0337-41e2-8431-02ae2283875c\">\n",
              "    <div class=\"colab-df-container\">\n",
              "      <div>\n",
              "<style scoped>\n",
              "    .dataframe tbody tr th:only-of-type {\n",
              "        vertical-align: middle;\n",
              "    }\n",
              "\n",
              "    .dataframe tbody tr th {\n",
              "        vertical-align: top;\n",
              "    }\n",
              "\n",
              "    .dataframe thead th {\n",
              "        text-align: right;\n",
              "    }\n",
              "</style>\n",
              "<table border=\"1\" class=\"dataframe\">\n",
              "  <thead>\n",
              "    <tr style=\"text-align: right;\">\n",
              "      <th></th>\n",
              "      <th>situacion_Emergencia</th>\n",
              "      <th>situacion_Urgencia</th>\n",
              "      <th>origen_Ciudadano</th>\n",
              "      <th>origen_Institución</th>\n",
              "      <th>origen_Institución - 145</th>\n",
              "      <th>origen_Institución - Acción Católica</th>\n",
              "      <th>origen_Institución - Afip</th>\n",
              "      <th>origen_Institución - Asesoría General Tutelar de CABA</th>\n",
              "      <th>origen_Institución - CONICET</th>\n",
              "      <th>origen_Institución - CPEM N° 18 NEUQUEN</th>\n",
              "      <th>...</th>\n",
              "      <th>via_ingreso_telefono institucional</th>\n",
              "      <th>via_ingreso_teléfono institucional</th>\n",
              "      <th>via_ingreso_teléfono institucional del Programa</th>\n",
              "      <th>consultante_tipo_Consultante</th>\n",
              "      <th>consultante_tipo_Consultante - ciudadano</th>\n",
              "      <th>consultante_tipo_Consultante - institucion</th>\n",
              "      <th>consultante_tipo_Consultante - victima directa</th>\n",
              "      <th>consultante_tipo_Denunciante</th>\n",
              "      <th>consultante_tipo_Denunciante - ciudadano</th>\n",
              "      <th>consultante_tipo_Denunciante - victima directa</th>\n",
              "    </tr>\n",
              "  </thead>\n",
              "  <tbody>\n",
              "    <tr>\n",
              "      <th>0</th>\n",
              "      <td>0</td>\n",
              "      <td>1</td>\n",
              "      <td>1</td>\n",
              "      <td>0</td>\n",
              "      <td>0</td>\n",
              "      <td>0</td>\n",
              "      <td>0</td>\n",
              "      <td>0</td>\n",
              "      <td>0</td>\n",
              "      <td>0</td>\n",
              "      <td>...</td>\n",
              "      <td>0</td>\n",
              "      <td>0</td>\n",
              "      <td>0</td>\n",
              "      <td>0</td>\n",
              "      <td>1</td>\n",
              "      <td>0</td>\n",
              "      <td>0</td>\n",
              "      <td>0</td>\n",
              "      <td>0</td>\n",
              "      <td>0</td>\n",
              "    </tr>\n",
              "    <tr>\n",
              "      <th>1</th>\n",
              "      <td>0</td>\n",
              "      <td>1</td>\n",
              "      <td>1</td>\n",
              "      <td>0</td>\n",
              "      <td>0</td>\n",
              "      <td>0</td>\n",
              "      <td>0</td>\n",
              "      <td>0</td>\n",
              "      <td>0</td>\n",
              "      <td>0</td>\n",
              "      <td>...</td>\n",
              "      <td>0</td>\n",
              "      <td>0</td>\n",
              "      <td>0</td>\n",
              "      <td>0</td>\n",
              "      <td>1</td>\n",
              "      <td>0</td>\n",
              "      <td>0</td>\n",
              "      <td>0</td>\n",
              "      <td>0</td>\n",
              "      <td>0</td>\n",
              "    </tr>\n",
              "    <tr>\n",
              "      <th>2</th>\n",
              "      <td>0</td>\n",
              "      <td>1</td>\n",
              "      <td>1</td>\n",
              "      <td>0</td>\n",
              "      <td>0</td>\n",
              "      <td>0</td>\n",
              "      <td>0</td>\n",
              "      <td>0</td>\n",
              "      <td>0</td>\n",
              "      <td>0</td>\n",
              "      <td>...</td>\n",
              "      <td>0</td>\n",
              "      <td>0</td>\n",
              "      <td>0</td>\n",
              "      <td>0</td>\n",
              "      <td>1</td>\n",
              "      <td>0</td>\n",
              "      <td>0</td>\n",
              "      <td>0</td>\n",
              "      <td>0</td>\n",
              "      <td>0</td>\n",
              "    </tr>\n",
              "    <tr>\n",
              "      <th>3</th>\n",
              "      <td>0</td>\n",
              "      <td>1</td>\n",
              "      <td>1</td>\n",
              "      <td>0</td>\n",
              "      <td>0</td>\n",
              "      <td>0</td>\n",
              "      <td>0</td>\n",
              "      <td>0</td>\n",
              "      <td>0</td>\n",
              "      <td>0</td>\n",
              "      <td>...</td>\n",
              "      <td>0</td>\n",
              "      <td>0</td>\n",
              "      <td>0</td>\n",
              "      <td>1</td>\n",
              "      <td>0</td>\n",
              "      <td>0</td>\n",
              "      <td>0</td>\n",
              "      <td>0</td>\n",
              "      <td>0</td>\n",
              "      <td>0</td>\n",
              "    </tr>\n",
              "    <tr>\n",
              "      <th>4</th>\n",
              "      <td>0</td>\n",
              "      <td>1</td>\n",
              "      <td>1</td>\n",
              "      <td>0</td>\n",
              "      <td>0</td>\n",
              "      <td>0</td>\n",
              "      <td>0</td>\n",
              "      <td>0</td>\n",
              "      <td>0</td>\n",
              "      <td>0</td>\n",
              "      <td>...</td>\n",
              "      <td>0</td>\n",
              "      <td>0</td>\n",
              "      <td>0</td>\n",
              "      <td>1</td>\n",
              "      <td>0</td>\n",
              "      <td>0</td>\n",
              "      <td>0</td>\n",
              "      <td>0</td>\n",
              "      <td>0</td>\n",
              "      <td>0</td>\n",
              "    </tr>\n",
              "    <tr>\n",
              "      <th>...</th>\n",
              "      <td>...</td>\n",
              "      <td>...</td>\n",
              "      <td>...</td>\n",
              "      <td>...</td>\n",
              "      <td>...</td>\n",
              "      <td>...</td>\n",
              "      <td>...</td>\n",
              "      <td>...</td>\n",
              "      <td>...</td>\n",
              "      <td>...</td>\n",
              "      <td>...</td>\n",
              "      <td>...</td>\n",
              "      <td>...</td>\n",
              "      <td>...</td>\n",
              "      <td>...</td>\n",
              "      <td>...</td>\n",
              "      <td>...</td>\n",
              "      <td>...</td>\n",
              "      <td>...</td>\n",
              "      <td>...</td>\n",
              "      <td>...</td>\n",
              "    </tr>\n",
              "    <tr>\n",
              "      <th>4276</th>\n",
              "      <td>0</td>\n",
              "      <td>1</td>\n",
              "      <td>1</td>\n",
              "      <td>0</td>\n",
              "      <td>0</td>\n",
              "      <td>0</td>\n",
              "      <td>0</td>\n",
              "      <td>0</td>\n",
              "      <td>0</td>\n",
              "      <td>0</td>\n",
              "      <td>...</td>\n",
              "      <td>0</td>\n",
              "      <td>0</td>\n",
              "      <td>0</td>\n",
              "      <td>1</td>\n",
              "      <td>0</td>\n",
              "      <td>0</td>\n",
              "      <td>0</td>\n",
              "      <td>0</td>\n",
              "      <td>0</td>\n",
              "      <td>0</td>\n",
              "    </tr>\n",
              "    <tr>\n",
              "      <th>4277</th>\n",
              "      <td>0</td>\n",
              "      <td>1</td>\n",
              "      <td>1</td>\n",
              "      <td>0</td>\n",
              "      <td>0</td>\n",
              "      <td>0</td>\n",
              "      <td>0</td>\n",
              "      <td>0</td>\n",
              "      <td>0</td>\n",
              "      <td>0</td>\n",
              "      <td>...</td>\n",
              "      <td>0</td>\n",
              "      <td>0</td>\n",
              "      <td>0</td>\n",
              "      <td>1</td>\n",
              "      <td>0</td>\n",
              "      <td>0</td>\n",
              "      <td>0</td>\n",
              "      <td>0</td>\n",
              "      <td>0</td>\n",
              "      <td>0</td>\n",
              "    </tr>\n",
              "    <tr>\n",
              "      <th>4278</th>\n",
              "      <td>0</td>\n",
              "      <td>1</td>\n",
              "      <td>1</td>\n",
              "      <td>0</td>\n",
              "      <td>0</td>\n",
              "      <td>0</td>\n",
              "      <td>0</td>\n",
              "      <td>0</td>\n",
              "      <td>0</td>\n",
              "      <td>0</td>\n",
              "      <td>...</td>\n",
              "      <td>0</td>\n",
              "      <td>0</td>\n",
              "      <td>0</td>\n",
              "      <td>1</td>\n",
              "      <td>0</td>\n",
              "      <td>0</td>\n",
              "      <td>0</td>\n",
              "      <td>0</td>\n",
              "      <td>0</td>\n",
              "      <td>0</td>\n",
              "    </tr>\n",
              "    <tr>\n",
              "      <th>4279</th>\n",
              "      <td>0</td>\n",
              "      <td>1</td>\n",
              "      <td>1</td>\n",
              "      <td>0</td>\n",
              "      <td>0</td>\n",
              "      <td>0</td>\n",
              "      <td>0</td>\n",
              "      <td>0</td>\n",
              "      <td>0</td>\n",
              "      <td>0</td>\n",
              "      <td>...</td>\n",
              "      <td>0</td>\n",
              "      <td>0</td>\n",
              "      <td>0</td>\n",
              "      <td>1</td>\n",
              "      <td>0</td>\n",
              "      <td>0</td>\n",
              "      <td>0</td>\n",
              "      <td>0</td>\n",
              "      <td>0</td>\n",
              "      <td>0</td>\n",
              "    </tr>\n",
              "    <tr>\n",
              "      <th>4280</th>\n",
              "      <td>0</td>\n",
              "      <td>1</td>\n",
              "      <td>1</td>\n",
              "      <td>0</td>\n",
              "      <td>0</td>\n",
              "      <td>0</td>\n",
              "      <td>0</td>\n",
              "      <td>0</td>\n",
              "      <td>0</td>\n",
              "      <td>0</td>\n",
              "      <td>...</td>\n",
              "      <td>0</td>\n",
              "      <td>0</td>\n",
              "      <td>0</td>\n",
              "      <td>1</td>\n",
              "      <td>0</td>\n",
              "      <td>0</td>\n",
              "      <td>0</td>\n",
              "      <td>0</td>\n",
              "      <td>0</td>\n",
              "      <td>0</td>\n",
              "    </tr>\n",
              "  </tbody>\n",
              "</table>\n",
              "<p>4281 rows × 1414 columns</p>\n",
              "</div>\n",
              "      <button class=\"colab-df-convert\" onclick=\"convertToInteractive('df-e64c774e-0337-41e2-8431-02ae2283875c')\"\n",
              "              title=\"Convert this dataframe to an interactive table.\"\n",
              "              style=\"display:none;\">\n",
              "        \n",
              "  <svg xmlns=\"http://www.w3.org/2000/svg\" height=\"24px\"viewBox=\"0 0 24 24\"\n",
              "       width=\"24px\">\n",
              "    <path d=\"M0 0h24v24H0V0z\" fill=\"none\"/>\n",
              "    <path d=\"M18.56 5.44l.94 2.06.94-2.06 2.06-.94-2.06-.94-.94-2.06-.94 2.06-2.06.94zm-11 1L8.5 8.5l.94-2.06 2.06-.94-2.06-.94L8.5 2.5l-.94 2.06-2.06.94zm10 10l.94 2.06.94-2.06 2.06-.94-2.06-.94-.94-2.06-.94 2.06-2.06.94z\"/><path d=\"M17.41 7.96l-1.37-1.37c-.4-.4-.92-.59-1.43-.59-.52 0-1.04.2-1.43.59L10.3 9.45l-7.72 7.72c-.78.78-.78 2.05 0 2.83L4 21.41c.39.39.9.59 1.41.59.51 0 1.02-.2 1.41-.59l7.78-7.78 2.81-2.81c.8-.78.8-2.07 0-2.86zM5.41 20L4 18.59l7.72-7.72 1.47 1.35L5.41 20z\"/>\n",
              "  </svg>\n",
              "      </button>\n",
              "      \n",
              "  <style>\n",
              "    .colab-df-container {\n",
              "      display:flex;\n",
              "      flex-wrap:wrap;\n",
              "      gap: 12px;\n",
              "    }\n",
              "\n",
              "    .colab-df-convert {\n",
              "      background-color: #E8F0FE;\n",
              "      border: none;\n",
              "      border-radius: 50%;\n",
              "      cursor: pointer;\n",
              "      display: none;\n",
              "      fill: #1967D2;\n",
              "      height: 32px;\n",
              "      padding: 0 0 0 0;\n",
              "      width: 32px;\n",
              "    }\n",
              "\n",
              "    .colab-df-convert:hover {\n",
              "      background-color: #E2EBFA;\n",
              "      box-shadow: 0px 1px 2px rgba(60, 64, 67, 0.3), 0px 1px 3px 1px rgba(60, 64, 67, 0.15);\n",
              "      fill: #174EA6;\n",
              "    }\n",
              "\n",
              "    [theme=dark] .colab-df-convert {\n",
              "      background-color: #3B4455;\n",
              "      fill: #D2E3FC;\n",
              "    }\n",
              "\n",
              "    [theme=dark] .colab-df-convert:hover {\n",
              "      background-color: #434B5C;\n",
              "      box-shadow: 0px 1px 3px 1px rgba(0, 0, 0, 0.15);\n",
              "      filter: drop-shadow(0px 1px 2px rgba(0, 0, 0, 0.3));\n",
              "      fill: #FFFFFF;\n",
              "    }\n",
              "  </style>\n",
              "\n",
              "      <script>\n",
              "        const buttonEl =\n",
              "          document.querySelector('#df-e64c774e-0337-41e2-8431-02ae2283875c button.colab-df-convert');\n",
              "        buttonEl.style.display =\n",
              "          google.colab.kernel.accessAllowed ? 'block' : 'none';\n",
              "\n",
              "        async function convertToInteractive(key) {\n",
              "          const element = document.querySelector('#df-e64c774e-0337-41e2-8431-02ae2283875c');\n",
              "          const dataTable =\n",
              "            await google.colab.kernel.invokeFunction('convertToInteractive',\n",
              "                                                     [key], {});\n",
              "          if (!dataTable) return;\n",
              "\n",
              "          const docLinkHtml = 'Like what you see? Visit the ' +\n",
              "            '<a target=\"_blank\" href=https://colab.research.google.com/notebooks/data_table.ipynb>data table notebook</a>'\n",
              "            + ' to learn more about interactive tables.';\n",
              "          element.innerHTML = '';\n",
              "          dataTable['output_type'] = 'display_data';\n",
              "          await google.colab.output.renderOutput(dataTable, element);\n",
              "          const docLink = document.createElement('div');\n",
              "          docLink.innerHTML = docLinkHtml;\n",
              "          element.appendChild(docLink);\n",
              "        }\n",
              "      </script>\n",
              "    </div>\n",
              "  </div>\n",
              "  "
            ]
          },
          "metadata": {},
          "execution_count": 131
        }
      ]
    },
    {
      "cell_type": "code",
      "source": [
        "wcss = []\n",
        "\n",
        "for i in range(1, 20):\n",
        "  kmeans = KMeans(n_clusters= i, max_iter = 300)\n",
        "  kmeans.fit(df)\n",
        "  wcss.append(kmeans.inertia_)\n",
        "plt.plot(range(1,20), wcss)\n",
        "plt.xlabel(\"Número de Clusters\")\n",
        "plt.title(\"METODO DE CODO\")"
      ],
      "metadata": {
        "colab": {
          "base_uri": "https://localhost:8080/",
          "height": 312
        },
        "id": "q8BsJntmpb8C",
        "outputId": "35eb01bb-347e-4242-e4dd-c839da2bbf42"
      },
      "execution_count": null,
      "outputs": [
        {
          "output_type": "execute_result",
          "data": {
            "text/plain": [
              "Text(0.5, 1.0, 'METODO DE CODO')"
            ]
          },
          "metadata": {},
          "execution_count": 132
        },
        {
          "output_type": "display_data",
          "data": {
            "text/plain": [
              "<Figure size 432x288 with 1 Axes>"
            ],
            "image/png": "[encoded data removed]"
          },
          "metadata": {
            "needs_background": "light"
          }
        }
      ]
    },
    {
      "cell_type": "code",
      "source": [
        "kmeans = KMeans(n_clusters=7).fit(df)\n",
        "centroids = kmeans.cluster_centers_\n",
        "labels = kmeans.labels_"
      ],
      "metadata": {
        "id": "ANjzxahkz9nq"
      },
      "execution_count": null,
      "outputs": []
    },
    {
      "cell_type": "code",
      "source": [
        "centroids"
      ],
      "metadata": {
        "colab": {
          "base_uri": "https://localhost:8080/"
        },
        "id": "Thgx07mlDPF6",
        "outputId": "f4c4a660-0bff-48c8-f3f6-8b5b0aca2b7e"
      },
      "execution_count": null,
      "outputs": [
        {
          "output_type": "execute_result",
          "data": {
            "text/plain": [
              "array([[ 1.70132325e-02,  9.82986767e-01,  9.56521739e-01, ...,\n",
              "         1.62570888e-01,  7.93950851e-02, -1.19262239e-18],\n",
              "       [ 6.98689956e-03,  9.93013100e-01,  9.26637555e-01, ...,\n",
              "         1.39737991e-02,  1.39737991e-02, -2.43945489e-18],\n",
              "       [ 5.53505535e-03,  9.94464945e-01,  9.92619926e-01, ...,\n",
              "        -6.24500451e-17,  6.93889390e-17,  3.52365706e-19],\n",
              "       ...,\n",
              "       [-2.77555756e-17,  1.00000000e+00,  9.53488372e-01, ...,\n",
              "        -6.24500451e-17,  6.24500451e-17,  1.89735380e-19],\n",
              "       [ 1.04821803e-02,  9.89517820e-01,  9.26624738e-01, ...,\n",
              "         2.09643606e-03,  2.30607966e-02,  2.09643606e-03],\n",
              "       [ 1.63636364e-02,  9.83636364e-01,  9.80000000e-01, ...,\n",
              "        -6.24500451e-17,  6.93889390e-17, -5.42101086e-20]])"
            ]
          },
          "metadata": {},
          "execution_count": 87
        }
      ]
    },
    {
      "cell_type": "code",
      "source": [
        "df[\"lb\"]=labels"
      ],
      "metadata": {
        "id": "ClbE7XchDhBU"
      },
      "execution_count": null,
      "outputs": []
    },
    {
      "cell_type": "code",
      "source": [
        "grafica1 = df[\"lb\"].value_counts().plot(kind=\"bar\", figsize= (15,5))\n",
        "plt.title(\"consultante_genero\")"
      ],
      "metadata": {
        "colab": {
          "base_uri": "https://localhost:8080/",
          "height": 349
        },
        "id": "yqCg4Rr_Dosr",
        "outputId": "64f90cd2-de91-4653-96f6-a924cbb986db"
      },
      "execution_count": null,
      "outputs": [
        {
          "output_type": "execute_result",
          "data": {
            "text/plain": [
              "Text(0.5, 1.0, 'consultante_genero')"
            ]
          },
          "metadata": {},
          "execution_count": 91
        },
        {
          "output_type": "display_data",
          "data": {
            "text/plain": [
              "<Figure size 1080x360 with 1 Axes>"
            ],
            "image/png": "[encoded data removed]"
          },
          "metadata": {
            "needs_background": "light"
          }
        }
      ]
    }
  ],
  "metadata": {
    "colab": {
      "provenance": []
    },
    "kernelspec": {
      "display_name": "Python 3",
      "name": "python3"
    },
    "language_info": {
      "name": "python"
    }
  },
  "nbformat": 4,
  "nbformat_minor": 0
}